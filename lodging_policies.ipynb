{
 "cells": [
  {
   "cell_type": "code",
   "execution_count": 1,
   "metadata": {},
   "outputs": [],
   "source": [
    "import re\n",
    "import pyspark\n",
    "from pyspark.sql import SparkSession\n",
    "from pyspark.sql.functions import struct, col, udf, coalesce, lit\n",
    "from pyspark.sql.types import StringType, StructType, StructField\n",
    "import pandas as pd\n",
    "from pathlib import Path\n",
    "import pyspark.sql.functions as F\n",
    "#from pyspark.sql.functions import when"
   ]
  },
  {
   "cell_type": "code",
   "execution_count": 2,
   "metadata": {},
   "outputs": [
    {
     "name": "stderr",
     "output_type": "stream",
     "text": [
      "25/01/09 12:39:26 WARN Utils: Your hostname, w3e101 resolves to a loopback address: 127.0.1.1; using 192.168.0.231 instead (on interface enp2s0)\n",
      "25/01/09 12:39:26 WARN Utils: Set SPARK_LOCAL_IP if you need to bind to another address\n"
     ]
    },
    {
     "name": "stdout",
     "output_type": "stream",
     "text": [
      ":: loading settings :: url = jar:file:/home/w3e101/Desktop/Crone%20Team/venv/lib/python3.12/site-packages/pyspark/jars/ivy-2.5.1.jar!/org/apache/ivy/core/settings/ivysettings.xml\n"
     ]
    },
    {
     "name": "stderr",
     "output_type": "stream",
     "text": [
      "Ivy Default Cache set to: /home/w3e101/.ivy2/cache\n",
      "The jars for the packages stored in: /home/w3e101/.ivy2/jars\n",
      "org.apache.iceberg#iceberg-spark-runtime-3.5_2.12 added as a dependency\n",
      ":: resolving dependencies :: org.apache.spark#spark-submit-parent-f422a6d6-d582-4f61-ae8a-6a5e8ff34c03;1.0\n",
      "\tconfs: [default]\n",
      "\tfound org.apache.iceberg#iceberg-spark-runtime-3.5_2.12;1.4.2 in central\n",
      ":: resolution report :: resolve 307ms :: artifacts dl 8ms\n",
      "\t:: modules in use:\n",
      "\torg.apache.iceberg#iceberg-spark-runtime-3.5_2.12;1.4.2 from central in [default]\n",
      "\t---------------------------------------------------------------------\n",
      "\t|                  |            modules            ||   artifacts   |\n",
      "\t|       conf       | number| search|dwnlded|evicted|| number|dwnlded|\n",
      "\t---------------------------------------------------------------------\n",
      "\t|      default     |   1   |   0   |   0   |   0   ||   1   |   0   |\n",
      "\t---------------------------------------------------------------------\n",
      ":: retrieving :: org.apache.spark#spark-submit-parent-f422a6d6-d582-4f61-ae8a-6a5e8ff34c03\n",
      "\tconfs: [default]\n",
      "\t0 artifacts copied, 1 already retrieved (0kB/12ms)\n",
      "25/01/09 12:39:27 WARN NativeCodeLoader: Unable to load native-hadoop library for your platform... using builtin-java classes where applicable\n",
      "Setting default log level to \"WARN\".\n",
      "To adjust logging level use sc.setLogLevel(newLevel). For SparkR, use setLogLevel(newLevel).\n"
     ]
    },
    {
     "data": {
      "text/html": [
       "\n",
       "            <div>\n",
       "                <p><b>SparkSession - in-memory</b></p>\n",
       "                \n",
       "        <div>\n",
       "            <p><b>SparkContext</b></p>\n",
       "\n",
       "            <p><a href=\"http://192.168.0.231:4040\">Spark UI</a></p>\n",
       "\n",
       "            <dl>\n",
       "              <dt>Version</dt>\n",
       "                <dd><code>v3.5.4</code></dd>\n",
       "              <dt>Master</dt>\n",
       "                <dd><code>local[*]</code></dd>\n",
       "              <dt>AppName</dt>\n",
       "                <dd><code>IcebergWrite</code></dd>\n",
       "            </dl>\n",
       "        </div>\n",
       "        \n",
       "            </div>\n",
       "        "
      ],
      "text/plain": [
       "<pyspark.sql.session.SparkSession at 0x7b5d2014c860>"
      ]
     },
     "execution_count": 2,
     "metadata": {},
     "output_type": "execute_result"
    }
   ],
   "source": [
    "    # .config(\"spark.sql.warehouse.dir\", warehouse_uri) \\\n",
    "    # .config(\"spark.sql.catalog.spark_catalog\", \"org.apache.iceberg.spark.SparkSessionCatalog\") \\\n",
    "    # .config(\"spark.sql.catalog.spark_catalog.type\", \"hadoop\") \\\n",
    "# Reinitialize Spark session with updated warehouse configuration\n",
    "spark = SparkSession.builder \\\n",
    "    .appName(\"IcebergWrite\") \\\n",
    "    .master(\"local[*]\") \\\n",
    "    .config(\"spark.jars.packages\", \"org.apache.iceberg:iceberg-spark-runtime-3.5_2.12:1.4.2\") \\\n",
    "    .config(\"spark.sql.extensions\", \"org.apache.iceberg.spark.extensions.IcebergSparkSessionExtensions\") \\\n",
    "    .config(\"spark.sql.catalog.local\", \"org.apache.iceberg.spark.SparkCatalog\") \\\n",
    "    .config(\"spark.sql.catalog.local.type\", \"hadoop\") \\\n",
    "    .config(\"spark.sql.catalog.local.warehouse\", \"warehouse/default\") \\\n",
    "    .getOrCreate()\n",
    "spark"
   ]
  },
  {
   "cell_type": "code",
   "execution_count": 3,
   "metadata": {},
   "outputs": [
    {
     "name": "stderr",
     "output_type": "stream",
     "text": [
      "                                                                                \r"
     ]
    }
   ],
   "source": [
    "df = spark.read.json(\"expedia-lodging-policies-en_us-1-all.jsonl\")"
   ]
  },
  {
   "cell_type": "code",
   "execution_count": 16,
   "metadata": {},
   "outputs": [
    {
     "name": "stderr",
     "output_type": "stream",
     "text": [
      "                                                                                \r"
     ]
    },
    {
     "name": "stdout",
     "output_type": "stream",
     "text": [
      "+--------------+--------------------+--------------------+----------------+--------------------+------------+-------------------------+--------------+--------------------+--------------------+----------+--------------------+--------------------+--------------------+---------------+--------------------+\n",
      "|checkInEndTime| checkInInstructions|       checkInPolicy|checkInStartTime|      checkOutPolicy|checkOutTime|childrenAndExtraBedPolicy|       country|      formsOfPayment|     knowBeforeYouGo|minimumAge|       paymentPolicy|           petPolicy|          propertyId|   propertyType| specialInstructions|\n",
      "+--------------+--------------------+--------------------+----------------+--------------------+------------+-------------------------+--------------+--------------------+--------------------+----------+--------------------+--------------------+--------------------+---------------+--------------------+\n",
      "|          NULL|                  []|[Check-in time st...|         4:00 PM|[Check-out before...|    11:00 AM|     [<ul><li>Children...| United States|                NULL|[A car is require...|        25|                NULL|[<ul><li>Pets not...|{33554978, 107475...|     {7, Condo}|[Be prepared: che...|\n",
      "|          NULL|                  []|[Check-in time st...|         4:00 PM|[Check-out before...|    11:00 AM|     [<ul><li>Children...|United Kingdom|                NULL|[A car is not req...|      NULL|   {GBP, NULL, NULL}|[<ul><li>Pets not...|{33554974, 107475...|{16, Apartment}|[Be prepared: che...|\n",
      "|       anytime|[Front desk staff...|[Check-in from 4 ...|            4 PM|[Check-out before...|        noon|     [<ul><li>Children...| United States|[American Express...|[A car is not req...|        21|{USD, [<ul> <li>F...|[<ul><li>Pets all...|      {87, 105816, }|     {1, Hotel}|[Be prepared: che...|\n",
      "|       3:00 AM|[Front desk staff...|[Check-in from 4 ...|            4 PM|[Check-out before...|       11 AM|     [<ul><li>Children...| United States|[American Express...|[The property has...|        21|{USD, [<ul>      ...|[<ul><li>Pets all...|      {23, 108574, }|     {1, Hotel}|[Be prepared: che...|\n",
      "|          NULL|                  []|[Check-in time st...|         4:00 PM|[Check-out before...|    10:00 AM|     [<ul><li>Children...| United States|                NULL|                NULL|        25|   {USD, NULL, NULL}|[<ul><li>Pets not...|{33555010, 107476...|     {7, Condo}|[Be prepared: che...|\n",
      "+--------------+--------------------+--------------------+----------------+--------------------+------------+-------------------------+--------------+--------------------+--------------------+----------+--------------------+--------------------+--------------------+---------------+--------------------+\n",
      "only showing top 5 rows\n",
      "\n"
     ]
    }
   ],
   "source": [
    "\n",
    "df.show(5)"
   ]
  },
  {
   "cell_type": "code",
   "execution_count": 5,
   "metadata": {},
   "outputs": [],
   "source": [
    "def remove_html_tags_array(text_array):\n",
    "    def remove_html_tags(text):\n",
    "        return re.sub('<.*?>', '', text)\n",
    "\n",
    "    return ' '.join([remove_html_tags(text) for text in text_array])\n",
    "\n",
    "# Register the function as a UDF\n",
    "remove_html_tags_udf = udf(remove_html_tags_array, StringType())"
   ]
  },
  {
   "cell_type": "code",
   "execution_count": 17,
   "metadata": {},
   "outputs": [
    {
     "name": "stdout",
     "output_type": "stream",
     "text": [
      "root\n",
      " |-- checkInEndTime: string (nullable = true)\n",
      " |-- checkInInstructions: array (nullable = true)\n",
      " |    |-- element: string (containsNull = true)\n",
      " |-- checkInPolicy: array (nullable = true)\n",
      " |    |-- element: string (containsNull = true)\n",
      " |-- checkInStartTime: string (nullable = true)\n",
      " |-- checkOutPolicy: array (nullable = true)\n",
      " |    |-- element: string (containsNull = true)\n",
      " |-- checkOutTime: string (nullable = true)\n",
      " |-- childrenAndExtraBedPolicy: array (nullable = true)\n",
      " |    |-- element: string (containsNull = true)\n",
      " |-- country: string (nullable = true)\n",
      " |-- formsOfPayment: array (nullable = true)\n",
      " |    |-- element: string (containsNull = true)\n",
      " |-- knowBeforeYouGo: array (nullable = true)\n",
      " |    |-- element: string (containsNull = true)\n",
      " |-- minimumAge: string (nullable = true)\n",
      " |-- paymentPolicy: struct (nullable = true)\n",
      " |    |-- localCurrency: string (nullable = true)\n",
      " |    |-- optionalExtras: array (nullable = true)\n",
      " |    |    |-- element: string (containsNull = true)\n",
      " |    |-- propertyFees: array (nullable = true)\n",
      " |    |    |-- element: string (containsNull = true)\n",
      " |-- petPolicy: array (nullable = true)\n",
      " |    |-- element: string (containsNull = true)\n",
      " |-- propertyId: struct (nullable = true)\n",
      " |    |-- expedia: string (nullable = true)\n",
      " |    |-- hcom: string (nullable = true)\n",
      " |    |-- vrbo: string (nullable = true)\n",
      " |-- propertyType: struct (nullable = true)\n",
      " |    |-- id: long (nullable = true)\n",
      " |    |-- name: string (nullable = true)\n",
      " |-- specialInstructions: array (nullable = true)\n",
      " |    |-- element: string (containsNull = true)\n",
      "\n"
     ]
    }
   ],
   "source": [
    "df.printSchema()"
   ]
  },
  {
   "cell_type": "code",
   "execution_count": 13,
   "metadata": {},
   "outputs": [],
   "source": [
    "import pyspark.sql.functions as F\n",
    "from pyspark.sql.functions import when\n",
    "\n",
    "# Assuming 'new_df' is your DataFrame\n",
    "\n",
    "# Define a UDF to map country names to country codes\n",
    "def get_country_code(country_name):\n",
    "    country_code_mapping = {\n",
    "        \"Aland Islands\": \"AX\",\n",
    "        \"Albania\": \"AL\",\n",
    "        \"Algeria\": \"DZ\",\n",
    "        \"American Samoa\": \"AS\",\n",
    "        \"Andorra\": \"AD\",\n",
    "        \"Angola\": \"AO\",\n",
    "        \"Anguilla\": \"AI\",\n",
    "        \"Antigua and Barbuda\": \"AG\",\n",
    "        \"Argentina\": \"AR\",\n",
    "        \"Armenia\": \"AM\",\n",
    "        \"Aruba\": \"AW\",\n",
    "        \"Australia\": \"AU\",\n",
    "        \"Austria\": \"AT\",\n",
    "        \"Azerbaijan\": \"AZ\",\n",
    "        \"Bahamas\": \"BS\",\n",
    "        \"Bahrain\": \"BH\",\n",
    "        \"Bangladesh\": \"BD\",\n",
    "        \"Barbados\": \"BB\",\n",
    "        \"Belarus\": \"BY\",\n",
    "        \"Belgium\": \"BE\",\n",
    "        \"Belize\": \"BZ\",\n",
    "        \"Benin\": \"BJ\",\n",
    "        \"Bermuda\": \"BM\",\n",
    "        \"Bhutan\": \"BT\",\n",
    "        \"Bolivia\": \"BO\",\n",
    "        \"Bonaire Saint Eustatius and Saba\": \"BQ\",\n",
    "        \"Bosnia and Herzegovina\": \"BA\",\n",
    "        \"Botswana\": \"BW\",\n",
    "        \"Brazil\": \"BR\",\n",
    "        \"British Virgin Islands\": \"VG\",\n",
    "        \"Brunei\": \"BN\",\n",
    "        \"Bulgaria\": \"BG\",\n",
    "        \"Burkina Faso\": \"BF\",\n",
    "        \"Burundi\": \"BI\",\n",
    "        \"Cambodia\": \"KH\",\n",
    "        \"Cameroon\": \"CM\",\n",
    "        \"Canada\": \"CA\",\n",
    "        \"Cape Verde\": \"CV\",\n",
    "        \"Cayman Islands\": \"KY\",\n",
    "        \"Chad\": \"TD\",\n",
    "        \"Chile\": \"CL\",\n",
    "        \"China\": \"CN\",\n",
    "        \"Christmas Island\": \"CX\",\n",
    "        \"Colombia\": \"CO\",\n",
    "        \"Comoros\": \"KM\",\n",
    "        \"Cook Islands\": \"CK\",\n",
    "        \"Costa Rica\": \"CR\",\n",
    "        \"Croatia\": \"HR\",\n",
    "        \"Cuba\": \"CU\",\n",
    "        \"Curacao\": \"CW\",\n",
    "        \"Cyprus\": \"CY\",\n",
    "        \"Czech Republic\": \"CZ\",\n",
    "        \"Democratic Republic of the Congo\": \"CD\",\n",
    "        \"Denmark\": \"DK\",\n",
    "        \"Djibouti\": \"DJ\",\n",
    "        \"Dominica\": \"DM\",\n",
    "        \"Dominican Republic\": \"DO\",\n",
    "        \"Ecuador\": \"EC\",\n",
    "        \"Egypt\": \"EG\",\n",
    "        \"El Salvador\": \"SV\",\n",
    "        \"Equatorial Guinea\": \"GQ\",\n",
    "        \"Eritrea\": \"ER\",\n",
    "        \"Estonia\": \"EE\",\n",
    "        \"Ethiopia\": \"ET\",\n",
    "        \"Faroe Islands\": \"FO\",\n",
    "        \"Fiji\": \"FJ\",\n",
    "        \"Finland\": \"FI\",\n",
    "        \"France\": \"FR\",\n",
    "        \"French Guiana\": \"GF\",\n",
    "        \"French Polynesia\": \"PF\",\n",
    "        \"Gabon\": \"GA\",\n",
    "        \"Gambia\": \"GM\",\n",
    "        \"Georgia\": \"GE\",\n",
    "        \"Germany\": \"DE\",\n",
    "        \"Ghana\": \"GH\",\n",
    "        \"Gibraltar\": \"GI\",\n",
    "        \"Greece\": \"GR\",\n",
    "        \"Greenland\": \"GL\",\n",
    "        \"Grenada\": \"GD\",\n",
    "        \"Guadeloupe\": \"GP\",\n",
    "        \"Guam\": \"GU\",\n",
    "        \"Guatemala\": \"GT\",\n",
    "        \"Guernsey\": \"GG\",\n",
    "        \"Guinea\": \"GN\",\n",
    "        \"Guinea-Bissau\": \"GW\",\n",
    "        \"Guyana\": \"GY\",\n",
    "        \"Haiti\": \"HT\",\n",
    "        \"Honduras\": \"HN\",\n",
    "        \"Hong Kong\": \"HK\",\n",
    "        \"Hungary\": \"HU\",\n",
    "        \"Iceland\": \"IS\",\n",
    "        \"India\": \"IN\",\n",
    "        \"Indonesia\": \"ID\",\n",
    "        \"Iraq\": \"IQ\",\n",
    "        \"Ireland\": \"IE\",\n",
    "        \"Isle of Man\": \"IM\",\n",
    "        \"Israel\": \"IL\",\n",
    "        \"Italy\": \"IT\",\n",
    "        \"Ivory Coast\": \"CI\",\n",
    "        \"Jamaica\": \"JM\",\n",
    "        \"Japan\": \"JP\",\n",
    "        \"Jersey\": \"JE\",\n",
    "        \"Jordan\": \"JO\",\n",
    "        \"Kazakhstan\": \"KZ\",\n",
    "        \"Kenya\": \"KE\",\n",
    "        \"Kiribati\": \"KI\",\n",
    "        \"Kuwait\": \"KW\",\n",
    "        \"Kyrgyzstan\": \"KG\",\n",
    "        \"Laos\": \"LA\",\n",
    "        \"Latvia\": \"LV\",\n",
    "        \"Lebanon\": \"LB\",\n",
    "        \"Lesotho\": \"LS\",\n",
    "        \"Liberia\": \"LR\",\n",
    "        \"Liechtenstein\": \"LI\",\n",
    "        \"Lithuania\": \"LT\",\n",
    "        \"Luxembourg\": \"LU\",\n",
    "        \"Macao\": \"MO\",\n",
    "        \"Macedonia\": \"MK\",\n",
    "        \"Madagascar\": \"MG\",\n",
    "        \"Malawi\": \"MW\",\n",
    "        \"Malaysia\": \"MY\",\n",
    "        \"Maldives\": \"MV\",\n",
    "        \"Mali\": \"ML\",\n",
    "        \"Malta\": \"MT\",\n",
    "        \"Martinique\": \"MQ\",\n",
    "        \"Mauritania\": \"MR\",\n",
    "        \"Mauritius\": \"MU\",\n",
    "        \"Mayotte\": \"YT\",\n",
    "        \"Mexico\": \"MX\",\n",
    "        \"Micronesia\": \"FM\",\n",
    "        \"Moldova\": \"MD\",\n",
    "        \"Monaco\": \"MC\",\n",
    "        \"Mongolia\": \"MN\",\n",
    "        \"Montenegro\": \"ME\",\n",
    "        \"Montserrat\": \"MS\",\n",
    "        \"Morocco\": \"MA\",\n",
    "        \"Mozambique\": \"MZ\",\n",
    "        \"Myanmar\": \"MM\",\n",
    "        \"Namibia\": \"NA\",\n",
    "        \"Nepal\": \"NP\",\n",
    "        \"Netherlands\": \"NL\",\n",
    "        \"New Caledonia\": \"NC\",\n",
    "        \"New Zealand\": \"NZ\",\n",
    "        \"Nicaragua\": \"NI\",\n",
    "        \"Niger\": \"NE\",\n",
    "        \"Nigeria\": \"NG\",\n",
    "        \"Niue\": \"NU\",\n",
    "        \"Norfolk Island\": \"NF\",\n",
    "        \"Northern Mariana Islands\": \"MP\",\n",
    "        \"Norway\": \"NO\",\n",
    "        \"Oman\": \"OM\",\n",
    "        \"Pakistan\": \"PK\",\n",
    "        \"Palau\": \"PW\",\n",
    "        \"Palestinian Territory\": \"PS\",\n",
    "        \"Panama\": \"PA\",\n",
    "        \"Papua New Guinea\": \"PG\",\n",
    "        \"Paraguay\": \"PY\",\n",
    "        \"Peru\": \"PE\",\n",
    "        \"Philippines\": \"PH\",\n",
    "        \"Poland\": \"PL\",\n",
    "        \"Portugal\": \"PT\",\n",
    "        \"Puerto Rico\": \"PR\",\n",
    "        \"Qatar\": \"QA\",\n",
    "        \"Republic of the Congo\": \"CG\",\n",
    "        \"Reunion\": \"RE\",\n",
    "        \"Romania\": \"RO\",\n",
    "        \"Rwanda\": \"RW\",\n",
    "        \"Saint Barthelemy\": \"BL\",\n",
    "        \"Saint Kitts and Nevis\": \"KN\",\n",
    "        \"Saint Lucia\": \"LC\",\n",
    "        \"Saint Martin\": \"MF\",\n",
    "        \"Saint Pierre and Miquelon\": \"PM\",\n",
    "        \"Saint Vincent and the Grenadines\": \"VC\",\n",
    "        \"Samoa\": \"WS\",\n",
    "        \"San Marino\": \"SM\",\n",
    "        \"Sao Tome and Principe\": \"ST\",\n",
    "        \"Saudi Arabia\": \"SA\",\n",
    "        \"Senegal\": \"SN\",\n",
    "        \"Serbia\": \"RS\",\n",
    "        \"Seychelles\": \"SC\",\n",
    "        \"Sierra Leone\": \"SL\",\n",
    "        \"Singapore\": \"SG\",\n",
    "        \"Sint Maarten\": \"SX\",\n",
    "        \"Slovakia\": \"SK\",\n",
    "        \"Slovenia\": \"SI\",\n",
    "        \"Solomon Islands\": \"SB\",\n",
    "        \"South Africa\": \"ZA\",\n",
    "        \"South Korea\": \"KR\",\n",
    "        \"Spain\": \"ES\",\n",
    "        \"Sri Lanka\": \"LK\",\n",
    "        \"Sudan\": \"SD\",\n",
    "        \"Suriname\": \"SR\",\n",
    "        \"Svalbard and Jan Mayen\": \"SJ\",\n",
    "        \"Swaziland\": \"SZ\",\n",
    "        \"Sweden\": \"SE\",\n",
    "        \"Switzerland\": \"CH\",\n",
    "        \"Taiwan\": \"TW\",\n",
    "        \"Tajikistan\": \"TJ\",\n",
    "        \"Tanzania\": \"TZ\",\n",
    "        \"Thailand\": \"TH\",\n",
    "        \"Togo\": \"TG\",\n",
    "        \"Tonga\": \"TO\",\n",
    "        \"Trinidad and Tobago\": \"TT\",\n",
    "        \"Tunisia\": \"TN\",\n",
    "        \"Turkey\": \"TR\",\n",
    "        \"Turkmenistan\": \"TM\",\n",
    "        \"Turks and Caicos Islands\": \"TC\",\n",
    "        \"U.S. Virgin Islands\": \"VI\",\n",
    "        \"Uganda\": \"UG\",\n",
    "        \"United Arab Emirates\": \"AE\",\n",
    "        \"United Kingdom\": \"UK\",\n",
    "        \"United States\": \"US\",\n",
    "        \"United States Minor Outlying Islands\": \"UM\",\n",
    "        \"Uruguay\": \"UY\",\n",
    "        \"Uzbekistan\": \"UZ\",\n",
    "        \"Vanuatu\": \"VU\",\n",
    "        \"Vietnam\": \"VN\",\n",
    "        \"Wallis and Futuna\": \"WF\",\n",
    "        \"Zambia\": \"ZM\",\n",
    "        \"Zimbabwe\": \"ZW\",\n",
    "        \"\":\"\"\n",
    "        # Add more mappings as needed\n",
    "    }\n",
    "    return country_code_mapping.get(country_name, \"Unknown\")\n",
    "\n",
    "# Register the function as a UDF\n",
    "get_country_code_udf = F.udf(get_country_code, StringType())"
   ]
  },
  {
   "cell_type": "code",
   "execution_count": 14,
   "metadata": {},
   "outputs": [],
   "source": [
    "target_schema = StructType([\n",
    "    StructField(\"check_in\", StringType(), True),\n",
    "    StructField(\"check_out\", StringType(), True),\n",
    "    StructField(\"policy\", StructType([\n",
    "        StructField(\"pet_policy\", StringType(), True),\n",
    "        StructField(\"child_policy\", StringType(), True)\n",
    "    ]), True),\n",
    "    StructField(\"country_code\", StringType(), True)\n",
    "])"
   ]
  },
  {
   "cell_type": "code",
   "execution_count": 15,
   "metadata": {},
   "outputs": [
    {
     "name": "stderr",
     "output_type": "stream",
     "text": [
      "[Stage 9:>                                                          (0 + 1) / 1]\r"
     ]
    },
    {
     "name": "stdout",
     "output_type": "stream",
     "text": [
      "+--------+---------+---------------------------------------------------------------------------------------------------------------------------------------------------------------------------------------------------------------------------------------------------------------------------------------------------------------------------------------------------------------------------------------------------------------------------------------------------------------------------------+------------+\n",
      "|check_in|check_out|policy                                                                                                                                                                                                                                                                                                                                                                                                                                                                           |country_code|\n",
      "+--------+---------+---------------------------------------------------------------------------------------------------------------------------------------------------------------------------------------------------------------------------------------------------------------------------------------------------------------------------------------------------------------------------------------------------------------------------------------------------------------------------------+------------+\n",
      "|4:00 PM |11:00 AM |{Pets not allowed, Children are welcome.}                                                                                                                                                                                                                                                                                                                                                                                                                                        |US          |\n",
      "|4:00 PM |11:00 AM |{Pets not allowed, Children are welcome.}                                                                                                                                                                                                                                                                                                                                                                                                                                        |UK          |\n",
      "|4 PM    |noon     |{Pets allowed for an extra charge of USD 100 per accommodation, per stayDogs onlyService animals are welcome, and are exempt from fees, Children are welcome.Kids stay free! Up to 2 children 18 years old and younger stay free when using existing bedding.Rollaway/extra beds are not available.Free cribs (infant beds)!}                                                                                                                                                    |US          |\n",
      "|4 PM    |11 AM    |{Pets allowed for an extra charge of USD 50 per pet, per stayUp to 35 lbs per petRestrictions apply For more information contact the property at the number on the booking confirmationService animals are welcome, and are exempt from fees, Children are welcome.Rollaway/extra beds are available for USD 10.00 per night.Free cribs (infant beds)!}                                                                                                                          |US          |\n",
      "|4:00 PM |10:00 AM |{Pets not allowed, Children are welcome.}                                                                                                                                                                                                                                                                                                                                                                                                                                        |US          |\n",
      "|2:00 PM |noon     |{No pets or service animals allowed, Children are welcome.Kids stay free! One child 6 years old or younger stays free when using existing bedding. Rollaway/extra beds are not available.Cribs (infant beds) are not available.}                                                                                                                                                                                                                                                 |VN          |\n",
      "|3:00 PM |11 AM    |{Pets not allowed (service animals welcome), Children are welcome.Rollaway/extra beds are not available.Cribs (infant beds) are not available.}                                                                                                                                                                                                                                                                                                                                  |US          |\n",
      "|3:00 PM |11:00 AM |{Pets allowed for an extra charge of USD 100 per accommodation, per stayDogs only1 per room (up to 40 lbs per pet)Pets cannot be left unattendedService animals are welcome, and are exempt from fees, Children are welcome.Kids stay free! Up to 4 children 17 years old and younger stay free when using existing bedding.Rollaway/extra beds are not available.Free cribs (infant beds)!}                                                                                     |US          |\n",
      "|4:00 PM |10:00 AM |{Pets not allowed, Children are welcome.}                                                                                                                                                                                                                                                                                                                                                                                                                                        |US          |\n",
      "|4:00 PM |10:00 AM |{Pets not allowed, Children are welcome.}                                                                                                                                                                                                                                                                                                                                                                                                                                        |US          |\n",
      "|4:00 PM |9:00 AM  |{Pets allowed, Children are welcome.}                                                                                                                                                                                                                                                                                                                                                                                                                                            |US          |\n",
      "|3:00 PM |10:00 AM |{Pets allowedDogs only1 per room (up to 20 lbs per pet), Children are welcome.Note from host: Town considers children over 12 to be adults.}                                                                                                                                                                                                                                                                                                                                     |US          |\n",
      "|3:00 PM |11 AM    |{Pets not allowed (service animals welcome), Children are welcome.Rollaway/extra beds are not available.Free cribs (infant beds)!}                                                                                                                                                                                                                                                                                                                                               |US          |\n",
      "|2:00 PM |10:00 AM |{Pets allowed, Children are welcome.}                                                                                                                                                                                                                                                                                                                                                                                                                                            |AU          |\n",
      "|3:00 PM |10:00 AM |{Pets not allowed, Children are welcome.}                                                                                                                                                                                                                                                                                                                                                                                                                                        |US          |\n",
      "|3:00 PM |11:00 AM |{Pets not allowed, This property does not allow children.}                                                                                                                                                                                                                                                                                                                                                                                                                       |US          |\n",
      "|3:00 PM |2:30 PM  |{, Children are welcome.Kids stay free! Up to 3 children 5 years old and younger stay free when using existing bedding.Rollaway/extra beds are not available.Cribs (infant beds) are not available.}                                                                                                                                                                                                                                                                             |BR          |\n",
      "|4:00 PM |11:00 AM |{Pets not allowed, Children are welcome.}                                                                                                                                                                                                                                                                                                                                                                                                                                        |US          |\n",
      "|4:30 PM |10:00 AM |{Pets not allowed, Children are welcome.}                                                                                                                                                                                                                                                                                                                                                                                                                                        |UK          |\n",
      "|3:00 PM |10:00 AM |{Pets not allowed, Children are welcome.}                                                                                                                                                                                                                                                                                                                                                                                                                                        |AU          |\n",
      "|4:00 PM |10:00 AM |{Pets not allowed, Children are welcome.}                                                                                                                                                                                                                                                                                                                                                                                                                                        |US          |\n",
      "|4:00 PM |11:00 AM |{Pets not allowed, This property does not allow children.}                                                                                                                                                                                                                                                                                                                                                                                                                       |US          |\n",
      "|2:00 PM |10:00 AM |{Pets allowedDogs only1 per room, Children are welcome.}                                                                                                                                                                                                                                                                                                                                                                                                                         |AU          |\n",
      "|4:00 PM |10:00 AM |{Pets not allowed, Children are welcome.}                                                                                                                                                                                                                                                                                                                                                                                                                                        |US          |\n",
      "|2 PM    |11 AM    |{Pets allowed for an extra charge of USD 20.00 per pet, per day, plus a deposit of USD 100.00 per stay2 per roomRestrictions apply For more information contact the property at the number on the booking confirmationService animals are welcome, and are exempt from fees, Children are welcome.Rollaway/extra beds are available for USD 10.00 per night.Free cribs (infant beds)!}                                                                                           |US          |\n",
      "|3 PM    |11 AM    |{No pets or service animals allowed, Children are welcome.Kids stay free! Children 18 years old and younger stay free when using existing bedding. Rollaway/extra beds are not available.Free cribs (infant beds)!}                                                                                                                                                                                                                                                              |US          |\n",
      "|3:00 PM |12:00 PM |{Pets not allowed, This property does not allow children.}                                                                                                                                                                                                                                                                                                                                                                                                                       |BR          |\n",
      "|3 PM    |11 AM    |{Pets not allowed, Children are welcome.Kids stay free! Children 18 years old and younger stay free when using existing bedding. Rollaway/extra beds are not available.}                                                                                                                                                                                                                                                                                                         |US          |\n",
      "|        |8:00 PM  |{Pets allowed2 per room (up to 22 lbs), Children are welcome.}                                                                                                                                                                                                                                                                                                                                                                                                                   |BR          |\n",
      "|4:00 PM |11 AM    |{Pets allowed for an extra charge of USD 15.00 per pet, per day2 per room (up to 60 lbs per pet)Restrictions apply For more information contact the property at the number on the booking confirmationService animals are welcome, and are exempt from fees, Children are welcome.Rollaway/extra beds are available for USD 25.0 per day.Cribs (infant beds) are not available.}                                                                                                 |US          |\n",
      "|4:00 PM |11:00 AM |{Pets allowed1 per room, Children are welcome.}                                                                                                                                                                                                                                                                                                                                                                                                                                  |CR          |\n",
      "|3:00 PM |10:00 AM |{Pets not allowed, Children are welcome.Note from host: We have a pack and play}                                                                                                                                                                                                                                                                                                                                                                                                 |AW          |\n",
      "|4:00 PM |11:00 AM |{Pets allowed2 per room, Children are welcome.}                                                                                                                                                                                                                                                                                                                                                                                                                                  |US          |\n",
      "|3:00 PM |11 AM    |{Pets allowed for an extra charge of USD 10.00 per pet, per day, Children are welcome.Rollaway/extra beds are available for USD 5.0 per day.Cribs (infant beds) are not available.}                                                                                                                                                                                                                                                                                              |US          |\n",
      "|4 PM    |noon     |{Pets not allowed, Children are welcome.Kids stay free! Up to 4 children 16 years old and younger stay free when using existing bedding.Rollaway/extra beds are available for USD 45.0 per night.Free cribs (infant beds)!}                                                                                                                                                                                                                                                      |US          |\n",
      "|3:00 PM |11 AM    |{Pets allowed for an extra charge of USD 20.00 per pet, per nightDogs and cats onlyUp to 50 lbs per petService animals are welcome, and are exempt from fees, Children are welcome.Kids stay free! Children 21 years old and younger stay free when using existing bedding. Rollaway/extra beds are not available.Cribs (infant beds) are not available.}                                                                                                                        |US          |\n",
      "|3:00 PM |11 AM    |{Pets allowed for an extra charge of USD 20.00 per pet, per night2 per roomPets cannot be left unattendedSpecific rooms only Pet-friendly rooms can be requested by contacting the property at the number on the booking confirmationService animals are welcome, and are exempt from fees, Children are welcome.Kids stay free! Children stay free when using existing bedding. Rollaway/extra beds are available for USD 15.0 per night.Cribs (infant beds) are not available.}|US          |\n",
      "|2:00 PM |10:00 AM |{Pets not allowed, This property does not allow children.}                                                                                                                                                                                                                                                                                                                                                                                                                       |MX          |\n",
      "|4:00 PM |10:00 AM |{Pets allowedService animals are welcome, and are exempt from fees, Children are welcome.}                                                                                                                                                                                                                                                                                                                                                                                       |ES          |\n",
      "|3:00 PM |12:00 PM |{Pets not allowed, Children are welcome.}                                                                                                                                                                                                                                                                                                                                                                                                                                        |PT          |\n",
      "|3:00 PM |11:00 AM |{Pets not allowed, Children are welcome.}                                                                                                                                                                                                                                                                                                                                                                                                                                        |AE          |\n",
      "|4:00 PM |11:00 AM |{Pets not allowed, This property welcomes adults only.}                                                                                                                                                                                                                                                                                                                                                                                                                          |GR          |\n",
      "|3:00 PM |11:00 AM |{Pets not allowed, Children are welcome.}                                                                                                                                                                                                                                                                                                                                                                                                                                        |AE          |\n",
      "|3:00 PM |11:00 AM |{Pets not allowed, Children are welcome.}                                                                                                                                                                                                                                                                                                                                                                                                                                        |BS          |\n",
      "|        |         |{, Children are welcome.}                                                                                                                                                                                                                                                                                                                                                                                                                                                        |ID          |\n",
      "|4:00 PM |10:00 AM |{Pets not allowed, Children are welcome.}                                                                                                                                                                                                                                                                                                                                                                                                                                        |US          |\n",
      "|3:00 PM |12:00 PM |{Pets not allowed, Children are welcome.}                                                                                                                                                                                                                                                                                                                                                                                                                                        |MY          |\n",
      "|3 PM    |11 AM    |{Pets stay free2 per room (up to 80 lbs per pet)Restrictions apply For more information contact the property at the number on the booking confirmationService animals welcome, Children are welcome.Kids stay free! Up to 2 children 21 years old and younger stay free when using existing bedding.Rollaway/extra beds are not available.Cribs (infant beds) are not available.}                                                                                                |US          |\n",
      "|3:00 PM |12:00 PM |{Pets not allowed, Children are welcome.}                                                                                                                                                                                                                                                                                                                                                                                                                                        |US          |\n",
      "|3:00 PM |11:00 AM |{Pets allowedDogs and cats only2 per roomRestrictions apply For more information contact the property at the number on the booking confirmation, Children are welcome.}                                                                                                                                                                                                                                                                                                          |AW          |\n",
      "+--------+---------+---------------------------------------------------------------------------------------------------------------------------------------------------------------------------------------------------------------------------------------------------------------------------------------------------------------------------------------------------------------------------------------------------------------------------------------------------------------------------------+------------+\n",
      "only showing top 50 rows\n",
      "\n"
     ]
    },
    {
     "name": "stderr",
     "output_type": "stream",
     "text": [
      "                                                                                \r"
     ]
    }
   ],
   "source": [
    "# Create the transformed DataFrame with the policy column as a struct\n",
    "transformed_df = df.select(\n",
    "    when(col(\"checkInStartTime\").isNull(), lit(\"\"))\n",
    "      .otherwise(col(\"checkInStartTime\"))\n",
    "      .alias(\"check_in\"),\n",
    "    when(col(\"checkOutTime\").isNull(), lit(\"\"))\n",
    "      .otherwise(col(\"checkOutTime\"))\n",
    "      .alias(\"check_out\"),\n",
    "    struct(\n",
    "        remove_html_tags_udf(coalesce(col(\"petPolicy\"), lit([\"\"]))).alias(\"pet_policy\"),\n",
    "        remove_html_tags_udf(coalesce(col(\"childrenAndExtraBedPolicy\"), lit([\"\"]))).alias(\"child_policy\")\n",
    "    ).alias(\"policy\"),\n",
    "    get_country_code_udf(coalesce(col(\"country\"), lit(\"\"))).alias(\"country_code\")\n",
    ")\n",
    "\n",
    "transformed_df.show(50, truncate = False)"
   ]
  },
  {
   "cell_type": "code",
   "execution_count": 9,
   "metadata": {},
   "outputs": [
    {
     "name": "stdout",
     "output_type": "stream",
     "text": [
      "root\n",
      " |-- check_in: string (nullable = true)\n",
      " |-- check_out: string (nullable = true)\n",
      " |-- policy: struct (nullable = false)\n",
      " |    |-- pet_policy: string (nullable = true)\n",
      " |    |-- child_policy: string (nullable = true)\n",
      " |-- country_code: string (nullable = true)\n",
      "\n"
     ]
    }
   ],
   "source": [
    "transformed_df.printSchema()"
   ]
  },
  {
   "cell_type": "code",
   "execution_count": 10,
   "metadata": {},
   "outputs": [
    {
     "name": "stderr",
     "output_type": "stream",
     "text": [
      "                                                                                \r"
     ]
    }
   ],
   "source": [
    "transformed_df.writeTo(\"local.db.lodging_policies\") \\\n",
    "    .partitionedBy(\"country_code\") \\\n",
    "    .using(\"iceberg\") \\\n",
    "    .tableProperty(\"write.format.default\", \"parquet\") \\\n",
    "    .tableProperty(\"write.parquet.compression-codec\", \"snappy\") \\\n",
    "    .createOrReplace()"
   ]
  },
  {
   "cell_type": "code",
   "execution_count": 11,
   "metadata": {},
   "outputs": [
    {
     "name": "stderr",
     "output_type": "stream",
     "text": [
      "[Stage 6:=================================================>       (48 + 4) / 55]\r"
     ]
    },
    {
     "name": "stdout",
     "output_type": "stream",
     "text": [
      "+-------------+------------+\n",
      "|total_records|country_code|\n",
      "+-------------+------------+\n",
      "|       317580|          US|\n",
      "|       106879|          FR|\n",
      "|        65310|          IT|\n",
      "|        64297|          DE|\n",
      "|        53694|          ES|\n",
      "|        43225|          UK|\n",
      "|        43080|          HR|\n",
      "|        24046|          AU|\n",
      "|        18076|          GR|\n",
      "|        17312|          BR|\n",
      "|        16421|          MX|\n",
      "|        15844|          PT|\n",
      "|        14035|          CA|\n",
      "|        13100|          DK|\n",
      "|        10969|          AT|\n",
      "|         9582|          JP|\n",
      "|         8275|          ID|\n",
      "|         7761|          TH|\n",
      "|         7752|          TR|\n",
      "|         7171|          IN|\n",
      "|         6497|          NZ|\n",
      "|         6230|          NL|\n",
      "|         6114|          CH|\n",
      "|         5582|          SE|\n",
      "|         4812|          PL|\n",
      "|         3719|          DO|\n",
      "|         3706|          KR|\n",
      "|         3680|          VN|\n",
      "|         3670|          ZA|\n",
      "|         3651|          CR|\n",
      "|         3539|          MA|\n",
      "|         3496|          CO|\n",
      "|         3489|          CN|\n",
      "|         3293|          BE|\n",
      "|         3182|          NO|\n",
      "|         3040|          CY|\n",
      "|         2776|          MY|\n",
      "|         2507|          PH|\n",
      "|         1977|          AE|\n",
      "|         1966|          KE|\n",
      "|         1940|          IE|\n",
      "|         1630|          JM|\n",
      "|         1629|          GP|\n",
      "|         1620|          TW|\n",
      "|         1619|          AR|\n",
      "|         1509|          LK|\n",
      "|         1500|          CZ|\n",
      "|         1487|          FI|\n",
      "|         1449|          PR|\n",
      "|         1448|          VI|\n",
      "+-------------+------------+\n",
      "only showing top 50 rows\n",
      "\n"
     ]
    },
    {
     "name": "stderr",
     "output_type": "stream",
     "text": [
      "                                                                                \r"
     ]
    }
   ],
   "source": [
    "spark.sql(\"SELECT count(*) as total_records, country_code FROM local.db.lodging_policies GROUP BY country_code ORDER BY total_records DESC\").show(50)"
   ]
  },
  {
   "cell_type": "code",
   "execution_count": 12,
   "metadata": {},
   "outputs": [
    {
     "name": "stdout",
     "output_type": "stream",
     "text": [
      "+---------+\n",
      "|namespace|\n",
      "+---------+\n",
      "|  default|\n",
      "+---------+\n",
      "\n"
     ]
    }
   ],
   "source": [
    "spark.sql(\"SHOW DATABASES\").show()"
   ]
  },
  {
   "cell_type": "code",
   "execution_count": null,
   "metadata": {},
   "outputs": [],
   "source": []
  }
 ],
 "metadata": {
  "kernelspec": {
   "display_name": "venv",
   "language": "python",
   "name": "python3"
  },
  "language_info": {
   "codemirror_mode": {
    "name": "ipython",
    "version": 3
   },
   "file_extension": ".py",
   "mimetype": "text/x-python",
   "name": "python",
   "nbconvert_exporter": "python",
   "pygments_lexer": "ipython3",
   "version": "3.12.3"
  }
 },
 "nbformat": 4,
 "nbformat_minor": 2
}
