{
 "cells": [
  {
   "cell_type": "code",
   "execution_count": 1,
   "metadata": {},
   "outputs": [],
   "source": [
    "import re\n",
    "import pyspark\n",
    "from pyspark.sql import SparkSession\n",
    "from pyspark.sql.functions import struct, col, udf, coalesce, lit\n",
    "from pyspark.sql.types import StringType, StructType, StructField\n",
    "from pathlib import Path\n",
    "import pyspark.sql.functions as F\n",
    "#from pyspark.sql.functions import when"
   ]
  },
  {
   "cell_type": "code",
   "execution_count": 21,
   "metadata": {},
   "outputs": [
    {
     "name": "stderr",
     "output_type": "stream",
     "text": [
      "25/01/13 17:14:10 WARN SparkSession: Using an existing Spark session; only runtime SQL configurations will take effect.\n"
     ]
    },
    {
     "data": {
      "text/html": [
       "\n",
       "            <div>\n",
       "                <p><b>SparkSession - in-memory</b></p>\n",
       "                \n",
       "        <div>\n",
       "            <p><b>SparkContext</b></p>\n",
       "\n",
       "            <p><a href=\"http://192.168.0.231:4041\">Spark UI</a></p>\n",
       "\n",
       "            <dl>\n",
       "              <dt>Version</dt>\n",
       "                <dd><code>v3.5.4</code></dd>\n",
       "              <dt>Master</dt>\n",
       "                <dd><code>local[*]</code></dd>\n",
       "              <dt>AppName</dt>\n",
       "                <dd><code>IcebergWrite</code></dd>\n",
       "            </dl>\n",
       "        </div>\n",
       "        \n",
       "            </div>\n",
       "        "
      ],
      "text/plain": [
       "<pyspark.sql.session.SparkSession at 0x73479816ab10>"
      ]
     },
     "execution_count": 21,
     "metadata": {},
     "output_type": "execute_result"
    }
   ],
   "source": [
    "    # .config(\"spark.sql.warehouse.dir\", warehouse_uri) \\\n",
    "    # .config(\"spark.sql.catalog.spark_catalog\", \"org.apache.iceberg.spark.SparkSessionCatalog\") \\\n",
    "    # .config(\"spark.sql.catalog.spark_catalog.type\", \"hadoop\") \\\n",
    "# Reinitialize Spark session with updated warehouse configuration\n",
    "spark = SparkSession.builder \\\n",
    "    .appName(\"IcebergWrite\") \\\n",
    "    .master(\"local[*]\") \\\n",
    "    .config(\"spark.jars.packages\", \"org.apache.iceberg:iceberg-spark-runtime-3.5_2.12:1.4.2\") \\\n",
    "    .config(\"spark.sql.extensions\", \"org.apache.iceberg.spark.extensions.IcebergSparkSessionExtensions\") \\\n",
    "    .config(\"spark.sql.catalog.local\", \"org.apache.iceberg.spark.SparkCatalog\") \\\n",
    "    .config(\"spark.sql.catalog.local.type\", \"hadoop\") \\\n",
    "    .config(\"spark.sql.catalog.local.warehouse\", \"spark-warehouse\") \\\n",
    "    .getOrCreate()\n",
    "spark"
   ]
  },
  {
   "cell_type": "code",
   "execution_count": 3,
   "metadata": {},
   "outputs": [
    {
     "name": "stderr",
     "output_type": "stream",
     "text": [
      "                                                                                \r"
     ]
    }
   ],
   "source": [
    "df = spark.read.json(\"input/expedia-lodging-policies-en_us-1-all.jsonl\")"
   ]
  },
  {
   "cell_type": "code",
   "execution_count": 4,
   "metadata": {},
   "outputs": [
    {
     "name": "stdout",
     "output_type": "stream",
     "text": [
      "+--------------+--------------------+--------------------+----------------+--------------------+------------+-------------------------+--------------+--------------------+--------------------+----------+--------------------+--------------------+--------------------+---------------+--------------------+\n",
      "|checkInEndTime| checkInInstructions|       checkInPolicy|checkInStartTime|      checkOutPolicy|checkOutTime|childrenAndExtraBedPolicy|       country|      formsOfPayment|     knowBeforeYouGo|minimumAge|       paymentPolicy|           petPolicy|          propertyId|   propertyType| specialInstructions|\n",
      "+--------------+--------------------+--------------------+----------------+--------------------+------------+-------------------------+--------------+--------------------+--------------------+----------+--------------------+--------------------+--------------------+---------------+--------------------+\n",
      "|          NULL|                  []|[Check-in time st...|         4:00 PM|[Check-out before...|    11:00 AM|     [<ul><li>Children...| United States|                NULL|[A car is require...|        25|                NULL|[<ul><li>Pets not...|{33554978, 107475...|     {7, Condo}|[Be prepared: che...|\n",
      "|          NULL|                  []|[Check-in time st...|         4:00 PM|[Check-out before...|    11:00 AM|     [<ul><li>Children...|United Kingdom|                NULL|[A car is not req...|      NULL|   {GBP, NULL, NULL}|[<ul><li>Pets not...|{33554974, 107475...|{16, Apartment}|[Be prepared: che...|\n",
      "|       anytime|[Front desk staff...|[Check-in from 4 ...|            4 PM|[Check-out before...|        noon|     [<ul><li>Children...| United States|[American Express...|[A car is not req...|        21|{USD, [<ul> <li>F...|[<ul><li>Pets all...|      {87, 105816, }|     {1, Hotel}|[Be prepared: che...|\n",
      "|       3:00 AM|[Front desk staff...|[Check-in from 4 ...|            4 PM|[Check-out before...|       11 AM|     [<ul><li>Children...| United States|[American Express...|[The property has...|        21|{USD, [<ul>      ...|[<ul><li>Pets all...|      {23, 108574, }|     {1, Hotel}|[Be prepared: che...|\n",
      "|          NULL|                  []|[Check-in time st...|         4:00 PM|[Check-out before...|    10:00 AM|     [<ul><li>Children...| United States|                NULL|                NULL|        25|   {USD, NULL, NULL}|[<ul><li>Pets not...|{33555010, 107476...|     {7, Condo}|[Be prepared: che...|\n",
      "+--------------+--------------------+--------------------+----------------+--------------------+------------+-------------------------+--------------+--------------------+--------------------+----------+--------------------+--------------------+--------------------+---------------+--------------------+\n",
      "only showing top 5 rows\n",
      "\n"
     ]
    }
   ],
   "source": [
    "\n",
    "df.show(5)"
   ]
  },
  {
   "cell_type": "code",
   "execution_count": 5,
   "metadata": {},
   "outputs": [],
   "source": [
    "def remove_html_tags_array(text_array):\n",
    "    def remove_html_tags(text):\n",
    "        return re.sub('<.*?>', '', text)\n",
    "\n",
    "    return ' '.join([remove_html_tags(text) for text in text_array])\n",
    "\n",
    "# Register the function as a UDF\n",
    "remove_html_tags_udf = udf(remove_html_tags_array, StringType())"
   ]
  },
  {
   "cell_type": "code",
   "execution_count": 17,
   "metadata": {},
   "outputs": [
    {
     "data": {
      "text/plain": [
       "['checkInEndTime',\n",
       " 'checkInInstructions',\n",
       " 'checkInPolicy',\n",
       " 'checkInStartTime',\n",
       " 'checkOutPolicy',\n",
       " 'checkOutTime',\n",
       " 'childrenAndExtraBedPolicy',\n",
       " 'country',\n",
       " 'formsOfPayment',\n",
       " 'knowBeforeYouGo',\n",
       " 'minimumAge',\n",
       " 'paymentPolicy',\n",
       " 'petPolicy',\n",
       " 'propertyId',\n",
       " 'propertyType',\n",
       " 'specialInstructions']"
      ]
     },
     "execution_count": 17,
     "metadata": {},
     "output_type": "execute_result"
    }
   ],
   "source": [
    "df.columns"
   ]
  },
  {
   "cell_type": "code",
   "execution_count": 18,
   "metadata": {},
   "outputs": [
    {
     "name": "stdout",
     "output_type": "stream",
     "text": [
      "root\n",
      " |-- propertyId: struct (nullable = true)\n",
      " |    |-- expedia: string (nullable = true)\n",
      " |    |-- hcom: string (nullable = true)\n",
      " |    |-- vrbo: string (nullable = true)\n",
      "\n"
     ]
    }
   ],
   "source": [
    "df.select(\"propertyId\").printSchema()"
   ]
  },
  {
   "cell_type": "code",
   "execution_count": 16,
   "metadata": {},
   "outputs": [
    {
     "name": "stdout",
     "output_type": "stream",
     "text": [
      "root\n",
      " |-- checkInEndTime: string (nullable = true)\n",
      " |-- checkInInstructions: array (nullable = true)\n",
      " |    |-- element: string (containsNull = true)\n",
      " |-- checkInPolicy: array (nullable = true)\n",
      " |    |-- element: string (containsNull = true)\n",
      " |-- checkInStartTime: string (nullable = true)\n",
      " |-- checkOutPolicy: array (nullable = true)\n",
      " |    |-- element: string (containsNull = true)\n",
      " |-- checkOutTime: string (nullable = true)\n",
      " |-- childrenAndExtraBedPolicy: array (nullable = true)\n",
      " |    |-- element: string (containsNull = true)\n",
      " |-- country: string (nullable = true)\n",
      " |-- formsOfPayment: array (nullable = true)\n",
      " |    |-- element: string (containsNull = true)\n",
      " |-- knowBeforeYouGo: array (nullable = true)\n",
      " |    |-- element: string (containsNull = true)\n",
      " |-- minimumAge: string (nullable = true)\n",
      " |-- paymentPolicy: struct (nullable = true)\n",
      " |    |-- localCurrency: string (nullable = true)\n",
      " |    |-- optionalExtras: array (nullable = true)\n",
      " |    |    |-- element: string (containsNull = true)\n",
      " |    |-- propertyFees: array (nullable = true)\n",
      " |    |    |-- element: string (containsNull = true)\n",
      " |-- petPolicy: array (nullable = true)\n",
      " |    |-- element: string (containsNull = true)\n",
      " |-- propertyId: struct (nullable = true)\n",
      " |    |-- expedia: string (nullable = true)\n",
      " |    |-- hcom: string (nullable = true)\n",
      " |    |-- vrbo: string (nullable = true)\n",
      " |-- propertyType: struct (nullable = true)\n",
      " |    |-- id: long (nullable = true)\n",
      " |    |-- name: string (nullable = true)\n",
      " |-- specialInstructions: array (nullable = true)\n",
      " |    |-- element: string (containsNull = true)\n",
      "\n"
     ]
    }
   ],
   "source": [
    "df.printSchema()"
   ]
  },
  {
   "cell_type": "code",
   "execution_count": 7,
   "metadata": {},
   "outputs": [],
   "source": [
    "import pyspark.sql.functions as F\n",
    "from pyspark.sql.functions import when\n",
    "\n",
    "# Assuming 'new_df' is your DataFrame\n",
    "\n",
    "# Define a UDF to map country names to country codes\n",
    "def get_country_code(country_name):\n",
    "    country_code_mapping = {\n",
    "        \"Aland Islands\": \"AX\",\n",
    "        \"Albania\": \"AL\",\n",
    "        \"Algeria\": \"DZ\",\n",
    "        \"American Samoa\": \"AS\",\n",
    "        \"Andorra\": \"AD\",\n",
    "        \"Angola\": \"AO\",\n",
    "        \"Anguilla\": \"AI\",\n",
    "        \"Antigua and Barbuda\": \"AG\",\n",
    "        \"Argentina\": \"AR\",\n",
    "        \"Armenia\": \"AM\",\n",
    "        \"Aruba\": \"AW\",\n",
    "        \"Australia\": \"AU\",\n",
    "        \"Austria\": \"AT\",\n",
    "        \"Azerbaijan\": \"AZ\",\n",
    "        \"Bahamas\": \"BS\",\n",
    "        \"Bahrain\": \"BH\",\n",
    "        \"Bangladesh\": \"BD\",\n",
    "        \"Barbados\": \"BB\",\n",
    "        \"Belarus\": \"BY\",\n",
    "        \"Belgium\": \"BE\",\n",
    "        \"Belize\": \"BZ\",\n",
    "        \"Benin\": \"BJ\",\n",
    "        \"Bermuda\": \"BM\",\n",
    "        \"Bhutan\": \"BT\",\n",
    "        \"Bolivia\": \"BO\",\n",
    "        \"Bonaire Saint Eustatius and Saba\": \"BQ\",\n",
    "        \"Bosnia and Herzegovina\": \"BA\",\n",
    "        \"Botswana\": \"BW\",\n",
    "        \"Brazil\": \"BR\",\n",
    "        \"British Virgin Islands\": \"VG\",\n",
    "        \"Brunei\": \"BN\",\n",
    "        \"Bulgaria\": \"BG\",\n",
    "        \"Burkina Faso\": \"BF\",\n",
    "        \"Burundi\": \"BI\",\n",
    "        \"Cambodia\": \"KH\",\n",
    "        \"Cameroon\": \"CM\",\n",
    "        \"Canada\": \"CA\",\n",
    "        \"Cape Verde\": \"CV\",\n",
    "        \"Cayman Islands\": \"KY\",\n",
    "        \"Chad\": \"TD\",\n",
    "        \"Chile\": \"CL\",\n",
    "        \"China\": \"CN\",\n",
    "        \"Christmas Island\": \"CX\",\n",
    "        \"Colombia\": \"CO\",\n",
    "        \"Comoros\": \"KM\",\n",
    "        \"Cook Islands\": \"CK\",\n",
    "        \"Costa Rica\": \"CR\",\n",
    "        \"Croatia\": \"HR\",\n",
    "        \"Cuba\": \"CU\",\n",
    "        \"Curacao\": \"CW\",\n",
    "        \"Cyprus\": \"CY\",\n",
    "        \"Czech Republic\": \"CZ\",\n",
    "        \"Democratic Republic of the Congo\": \"CD\",\n",
    "        \"Denmark\": \"DK\",\n",
    "        \"Djibouti\": \"DJ\",\n",
    "        \"Dominica\": \"DM\",\n",
    "        \"Dominican Republic\": \"DO\",\n",
    "        \"Ecuador\": \"EC\",\n",
    "        \"Egypt\": \"EG\",\n",
    "        \"El Salvador\": \"SV\",\n",
    "        \"Equatorial Guinea\": \"GQ\",\n",
    "        \"Eritrea\": \"ER\",\n",
    "        \"Estonia\": \"EE\",\n",
    "        \"Ethiopia\": \"ET\",\n",
    "        \"Faroe Islands\": \"FO\",\n",
    "        \"Fiji\": \"FJ\",\n",
    "        \"Finland\": \"FI\",\n",
    "        \"France\": \"FR\",\n",
    "        \"French Guiana\": \"GF\",\n",
    "        \"French Polynesia\": \"PF\",\n",
    "        \"Gabon\": \"GA\",\n",
    "        \"Gambia\": \"GM\",\n",
    "        \"Georgia\": \"GE\",\n",
    "        \"Germany\": \"DE\",\n",
    "        \"Ghana\": \"GH\",\n",
    "        \"Gibraltar\": \"GI\",\n",
    "        \"Greece\": \"GR\",\n",
    "        \"Greenland\": \"GL\",\n",
    "        \"Grenada\": \"GD\",\n",
    "        \"Guadeloupe\": \"GP\",\n",
    "        \"Guam\": \"GU\",\n",
    "        \"Guatemala\": \"GT\",\n",
    "        \"Guernsey\": \"GG\",\n",
    "        \"Guinea\": \"GN\",\n",
    "        \"Guinea-Bissau\": \"GW\",\n",
    "        \"Guyana\": \"GY\",\n",
    "        \"Haiti\": \"HT\",\n",
    "        \"Honduras\": \"HN\",\n",
    "        \"Hong Kong\": \"HK\",\n",
    "        \"Hungary\": \"HU\",\n",
    "        \"Iceland\": \"IS\",\n",
    "        \"India\": \"IN\",\n",
    "        \"Indonesia\": \"ID\",\n",
    "        \"Iraq\": \"IQ\",\n",
    "        \"Ireland\": \"IE\",\n",
    "        \"Isle of Man\": \"IM\",\n",
    "        \"Israel\": \"IL\",\n",
    "        \"Italy\": \"IT\",\n",
    "        \"Ivory Coast\": \"CI\",\n",
    "        \"Jamaica\": \"JM\",\n",
    "        \"Japan\": \"JP\",\n",
    "        \"Jersey\": \"JE\",\n",
    "        \"Jordan\": \"JO\",\n",
    "        \"Kazakhstan\": \"KZ\",\n",
    "        \"Kenya\": \"KE\",\n",
    "        \"Kiribati\": \"KI\",\n",
    "        \"Kuwait\": \"KW\",\n",
    "        \"Kyrgyzstan\": \"KG\",\n",
    "        \"Laos\": \"LA\",\n",
    "        \"Latvia\": \"LV\",\n",
    "        \"Lebanon\": \"LB\",\n",
    "        \"Lesotho\": \"LS\",\n",
    "        \"Liberia\": \"LR\",\n",
    "        \"Liechtenstein\": \"LI\",\n",
    "        \"Lithuania\": \"LT\",\n",
    "        \"Luxembourg\": \"LU\",\n",
    "        \"Macao\": \"MO\",\n",
    "        \"Macedonia\": \"MK\",\n",
    "        \"Madagascar\": \"MG\",\n",
    "        \"Malawi\": \"MW\",\n",
    "        \"Malaysia\": \"MY\",\n",
    "        \"Maldives\": \"MV\",\n",
    "        \"Mali\": \"ML\",\n",
    "        \"Malta\": \"MT\",\n",
    "        \"Martinique\": \"MQ\",\n",
    "        \"Mauritania\": \"MR\",\n",
    "        \"Mauritius\": \"MU\",\n",
    "        \"Mayotte\": \"YT\",\n",
    "        \"Mexico\": \"MX\",\n",
    "        \"Micronesia\": \"FM\",\n",
    "        \"Moldova\": \"MD\",\n",
    "        \"Monaco\": \"MC\",\n",
    "        \"Mongolia\": \"MN\",\n",
    "        \"Montenegro\": \"ME\",\n",
    "        \"Montserrat\": \"MS\",\n",
    "        \"Morocco\": \"MA\",\n",
    "        \"Mozambique\": \"MZ\",\n",
    "        \"Myanmar\": \"MM\",\n",
    "        \"Namibia\": \"NA\",\n",
    "        \"Nepal\": \"NP\",\n",
    "        \"Netherlands\": \"NL\",\n",
    "        \"New Caledonia\": \"NC\",\n",
    "        \"New Zealand\": \"NZ\",\n",
    "        \"Nicaragua\": \"NI\",\n",
    "        \"Niger\": \"NE\",\n",
    "        \"Nigeria\": \"NG\",\n",
    "        \"Niue\": \"NU\",\n",
    "        \"Norfolk Island\": \"NF\",\n",
    "        \"Northern Mariana Islands\": \"MP\",\n",
    "        \"Norway\": \"NO\",\n",
    "        \"Oman\": \"OM\",\n",
    "        \"Pakistan\": \"PK\",\n",
    "        \"Palau\": \"PW\",\n",
    "        \"Palestinian Territory\": \"PS\",\n",
    "        \"Panama\": \"PA\",\n",
    "        \"Papua New Guinea\": \"PG\",\n",
    "        \"Paraguay\": \"PY\",\n",
    "        \"Peru\": \"PE\",\n",
    "        \"Philippines\": \"PH\",\n",
    "        \"Poland\": \"PL\",\n",
    "        \"Portugal\": \"PT\",\n",
    "        \"Puerto Rico\": \"PR\",\n",
    "        \"Qatar\": \"QA\",\n",
    "        \"Republic of the Congo\": \"CG\",\n",
    "        \"Reunion\": \"RE\",\n",
    "        \"Romania\": \"RO\",\n",
    "        \"Rwanda\": \"RW\",\n",
    "        \"Saint Barthelemy\": \"BL\",\n",
    "        \"Saint Kitts and Nevis\": \"KN\",\n",
    "        \"Saint Lucia\": \"LC\",\n",
    "        \"Saint Martin\": \"MF\",\n",
    "        \"Saint Pierre and Miquelon\": \"PM\",\n",
    "        \"Saint Vincent and the Grenadines\": \"VC\",\n",
    "        \"Samoa\": \"WS\",\n",
    "        \"San Marino\": \"SM\",\n",
    "        \"Sao Tome and Principe\": \"ST\",\n",
    "        \"Saudi Arabia\": \"SA\",\n",
    "        \"Senegal\": \"SN\",\n",
    "        \"Serbia\": \"RS\",\n",
    "        \"Seychelles\": \"SC\",\n",
    "        \"Sierra Leone\": \"SL\",\n",
    "        \"Singapore\": \"SG\",\n",
    "        \"Sint Maarten\": \"SX\",\n",
    "        \"Slovakia\": \"SK\",\n",
    "        \"Slovenia\": \"SI\",\n",
    "        \"Solomon Islands\": \"SB\",\n",
    "        \"South Africa\": \"ZA\",\n",
    "        \"South Korea\": \"KR\",\n",
    "        \"Spain\": \"ES\",\n",
    "        \"Sri Lanka\": \"LK\",\n",
    "        \"Sudan\": \"SD\",\n",
    "        \"Suriname\": \"SR\",\n",
    "        \"Svalbard and Jan Mayen\": \"SJ\",\n",
    "        \"Swaziland\": \"SZ\",\n",
    "        \"Sweden\": \"SE\",\n",
    "        \"Switzerland\": \"CH\",\n",
    "        \"Taiwan\": \"TW\",\n",
    "        \"Tajikistan\": \"TJ\",\n",
    "        \"Tanzania\": \"TZ\",\n",
    "        \"Thailand\": \"TH\",\n",
    "        \"Togo\": \"TG\",\n",
    "        \"Tonga\": \"TO\",\n",
    "        \"Trinidad and Tobago\": \"TT\",\n",
    "        \"Tunisia\": \"TN\",\n",
    "        \"Turkey\": \"TR\",\n",
    "        \"Turkmenistan\": \"TM\",\n",
    "        \"Turks and Caicos Islands\": \"TC\",\n",
    "        \"U.S. Virgin Islands\": \"VI\",\n",
    "        \"Uganda\": \"UG\",\n",
    "        \"United Arab Emirates\": \"AE\",\n",
    "        \"United Kingdom\": \"UK\",\n",
    "        \"United States\": \"US\",\n",
    "        \"United States Minor Outlying Islands\": \"UM\",\n",
    "        \"Uruguay\": \"UY\",\n",
    "        \"Uzbekistan\": \"UZ\",\n",
    "        \"Vanuatu\": \"VU\",\n",
    "        \"Vietnam\": \"VN\",\n",
    "        \"Wallis and Futuna\": \"WF\",\n",
    "        \"Zambia\": \"ZM\",\n",
    "        \"Zimbabwe\": \"ZW\",\n",
    "        \"\":\"\"\n",
    "        # Add more mappings as needed\n",
    "    }\n",
    "    return country_code_mapping.get(country_name, \"Unknown\")\n",
    "\n",
    "# Register the function as a UDF\n",
    "get_country_code_udf = F.udf(get_country_code, StringType())"
   ]
  },
  {
   "cell_type": "code",
   "execution_count": 8,
   "metadata": {},
   "outputs": [],
   "source": [
    "target_schema = StructType([\n",
    "    StructField(\"check_in\", StringType(), True),\n",
    "    StructField(\"check_out\", StringType(), True),\n",
    "    StructField(\"policy\", StructType([\n",
    "        StructField(\"pet_policy\", StringType(), True),\n",
    "        StructField(\"child_policy\", StringType(), True)\n",
    "    ]), True),\n",
    "    StructField(\"country_code\", StringType(), True)\n",
    "])"
   ]
  },
  {
   "cell_type": "code",
   "execution_count": 19,
   "metadata": {},
   "outputs": [
    {
     "name": "stdout",
     "output_type": "stream",
     "text": [
      "+----------+--------+---------+---------------------------------------------------------------------------------------------------------------------------------------------------------------------------------------------------------------------------------------------------------------------------------------------------------------------------------------------------------------------------------------------------------------------------------------------------------------------------------+------------+\n",
      "|expedia_id|check_in|check_out|policy                                                                                                                                                                                                                                                                                                                                                                                                                                                                           |country_code|\n",
      "+----------+--------+---------+---------------------------------------------------------------------------------------------------------------------------------------------------------------------------------------------------------------------------------------------------------------------------------------------------------------------------------------------------------------------------------------------------------------------------------------------------------------------------------+------------+\n",
      "|33554978  |4:00 PM |11:00 AM |{Pets not allowed, Children are welcome.}                                                                                                                                                                                                                                                                                                                                                                                                                                        |US          |\n",
      "|33554974  |4:00 PM |11:00 AM |{Pets not allowed, Children are welcome.}                                                                                                                                                                                                                                                                                                                                                                                                                                        |UK          |\n",
      "|87        |4 PM    |noon     |{Pets allowed for an extra charge of USD 100 per accommodation, per stayDogs onlyService animals are welcome, and are exempt from fees, Children are welcome.Kids stay free! Up to 2 children 18 years old and younger stay free when using existing bedding.Rollaway/extra beds are not available.Free cribs (infant beds)!}                                                                                                                                                    |US          |\n",
      "|23        |4 PM    |11 AM    |{Pets allowed for an extra charge of USD 50 per pet, per stayUp to 35 lbs per petRestrictions apply For more information contact the property at the number on the booking confirmationService animals are welcome, and are exempt from fees, Children are welcome.Rollaway/extra beds are available for USD 10.00 per night.Free cribs (infant beds)!}                                                                                                                          |US          |\n",
      "|33555010  |4:00 PM |10:00 AM |{Pets not allowed, Children are welcome.}                                                                                                                                                                                                                                                                                                                                                                                                                                        |US          |\n",
      "|29360622  |2:00 PM |noon     |{No pets or service animals allowed, Children are welcome.Kids stay free! One child 6 years old or younger stays free when using existing bedding. Rollaway/extra beds are not available.Cribs (infant beds) are not available.}                                                                                                                                                                                                                                                 |VN          |\n",
      "|99        |3:00 PM |11 AM    |{Pets not allowed (service animals welcome), Children are welcome.Rollaway/extra beds are not available.Cribs (infant beds) are not available.}                                                                                                                                                                                                                                                                                                                                  |US          |\n",
      "|70        |3:00 PM |11:00 AM |{Pets allowed for an extra charge of USD 100 per accommodation, per stayDogs only1 per room (up to 40 lbs per pet)Pets cannot be left unattendedService animals are welcome, and are exempt from fees, Children are welcome.Kids stay free! Up to 4 children 17 years old and younger stay free when using existing bedding.Rollaway/extra beds are not available.Free cribs (infant beds)!}                                                                                     |US          |\n",
      "|88081702  |4:00 PM |10:00 AM |{Pets not allowed, Children are welcome.}                                                                                                                                                                                                                                                                                                                                                                                                                                        |US          |\n",
      "|37749303  |4:00 PM |10:00 AM |{Pets not allowed, Children are welcome.}                                                                                                                                                                                                                                                                                                                                                                                                                                        |US          |\n",
      "|33554946  |4:00 PM |9:00 AM  |{Pets allowed, Children are welcome.}                                                                                                                                                                                                                                                                                                                                                                                                                                            |US          |\n",
      "|33554960  |3:00 PM |10:00 AM |{Pets allowedDogs only1 per room (up to 20 lbs per pet), Children are welcome.Note from host: Town considers children over 12 to be adults.}                                                                                                                                                                                                                                                                                                                                     |US          |\n",
      "|69        |3:00 PM |11 AM    |{Pets not allowed (service animals welcome), Children are welcome.Rollaway/extra beds are not available.Free cribs (infant beds)!}                                                                                                                                                                                                                                                                                                                                               |US          |\n",
      "|33554953  |2:00 PM |10:00 AM |{Pets allowed, Children are welcome.}                                                                                                                                                                                                                                                                                                                                                                                                                                            |AU          |\n",
      "|33555068  |3:00 PM |10:00 AM |{Pets not allowed, Children are welcome.}                                                                                                                                                                                                                                                                                                                                                                                                                                        |US          |\n",
      "|33554970  |3:00 PM |11:00 AM |{Pets not allowed, This property does not allow children.}                                                                                                                                                                                                                                                                                                                                                                                                                       |US          |\n",
      "|25166328  |3:00 PM |2:30 PM  |{, Children are welcome.Kids stay free! Up to 3 children 5 years old and younger stay free when using existing bedding.Rollaway/extra beds are not available.Cribs (infant beds) are not available.}                                                                                                                                                                                                                                                                             |BR          |\n",
      "|33554997  |4:00 PM |11:00 AM |{Pets not allowed, Children are welcome.}                                                                                                                                                                                                                                                                                                                                                                                                                                        |US          |\n",
      "|54526828  |4:30 PM |10:00 AM |{Pets not allowed, Children are welcome.}                                                                                                                                                                                                                                                                                                                                                                                                                                        |UK          |\n",
      "|33555024  |3:00 PM |10:00 AM |{Pets not allowed, Children are welcome.}                                                                                                                                                                                                                                                                                                                                                                                                                                        |AU          |\n",
      "|37749326  |4:00 PM |10:00 AM |{Pets not allowed, Children are welcome.}                                                                                                                                                                                                                                                                                                                                                                                                                                        |US          |\n",
      "|33555022  |4:00 PM |11:00 AM |{Pets not allowed, This property does not allow children.}                                                                                                                                                                                                                                                                                                                                                                                                                       |US          |\n",
      "|33555030  |2:00 PM |10:00 AM |{Pets allowedDogs only1 per room, Children are welcome.}                                                                                                                                                                                                                                                                                                                                                                                                                         |AU          |\n",
      "|37749368  |4:00 PM |10:00 AM |{Pets not allowed, Children are welcome.}                                                                                                                                                                                                                                                                                                                                                                                                                                        |US          |\n",
      "|24        |2 PM    |11 AM    |{Pets allowed for an extra charge of USD 20.00 per pet, per day, plus a deposit of USD 100.00 per stay2 per roomRestrictions apply For more information contact the property at the number on the booking confirmationService animals are welcome, and are exempt from fees, Children are welcome.Rollaway/extra beds are available for USD 10.00 per night.Free cribs (infant beds)!}                                                                                           |US          |\n",
      "|106       |3 PM    |11 AM    |{No pets or service animals allowed, Children are welcome.Kids stay free! Children 18 years old and younger stay free when using existing bedding. Rollaway/extra beds are not available.Free cribs (infant beds)!}                                                                                                                                                                                                                                                              |US          |\n",
      "|33554976  |3:00 PM |12:00 PM |{Pets not allowed, This property does not allow children.}                                                                                                                                                                                                                                                                                                                                                                                                                       |BR          |\n",
      "|36        |3 PM    |11 AM    |{Pets not allowed, Children are welcome.Kids stay free! Children 18 years old and younger stay free when using existing bedding. Rollaway/extra beds are not available.}                                                                                                                                                                                                                                                                                                         |US          |\n",
      "|33554993  |        |8:00 PM  |{Pets allowed2 per room (up to 22 lbs), Children are welcome.}                                                                                                                                                                                                                                                                                                                                                                                                                   |BR          |\n",
      "|8         |4:00 PM |11 AM    |{Pets allowed for an extra charge of USD 15.00 per pet, per day2 per room (up to 60 lbs per pet)Restrictions apply For more information contact the property at the number on the booking confirmationService animals are welcome, and are exempt from fees, Children are welcome.Rollaway/extra beds are available for USD 25.0 per day.Cribs (infant beds) are not available.}                                                                                                 |US          |\n",
      "|88081735  |4:00 PM |11:00 AM |{Pets allowed1 per room, Children are welcome.}                                                                                                                                                                                                                                                                                                                                                                                                                                  |CR          |\n",
      "|33555028  |3:00 PM |10:00 AM |{Pets not allowed, Children are welcome.Note from host: We have a pack and play}                                                                                                                                                                                                                                                                                                                                                                                                 |AW          |\n",
      "|88081786  |4:00 PM |11:00 AM |{Pets allowed2 per room, Children are welcome.}                                                                                                                                                                                                                                                                                                                                                                                                                                  |US          |\n",
      "|80        |3:00 PM |11 AM    |{Pets allowed for an extra charge of USD 10.00 per pet, per day, Children are welcome.Rollaway/extra beds are available for USD 5.0 per day.Cribs (infant beds) are not available.}                                                                                                                                                                                                                                                                                              |US          |\n",
      "|9         |4 PM    |noon     |{Pets not allowed, Children are welcome.Kids stay free! Up to 4 children 16 years old and younger stay free when using existing bedding.Rollaway/extra beds are available for USD 45.0 per night.Free cribs (infant beds)!}                                                                                                                                                                                                                                                      |US          |\n",
      "|54        |3:00 PM |11 AM    |{Pets allowed for an extra charge of USD 20.00 per pet, per nightDogs and cats onlyUp to 50 lbs per petService animals are welcome, and are exempt from fees, Children are welcome.Kids stay free! Children 21 years old and younger stay free when using existing bedding. Rollaway/extra beds are not available.Cribs (infant beds) are not available.}                                                                                                                        |US          |\n",
      "|93        |3:00 PM |11 AM    |{Pets allowed for an extra charge of USD 20.00 per pet, per night2 per roomPets cannot be left unattendedSpecific rooms only Pet-friendly rooms can be requested by contacting the property at the number on the booking confirmationService animals are welcome, and are exempt from fees, Children are welcome.Kids stay free! Children stay free when using existing bedding. Rollaway/extra beds are available for USD 15.0 per night.Cribs (infant beds) are not available.}|US          |\n",
      "|37749259  |2:00 PM |10:00 AM |{Pets not allowed, This property does not allow children.}                                                                                                                                                                                                                                                                                                                                                                                                                       |MX          |\n",
      "|37749354  |4:00 PM |10:00 AM |{Pets allowedService animals are welcome, and are exempt from fees, Children are welcome.}                                                                                                                                                                                                                                                                                                                                                                                       |ES          |\n",
      "|33554966  |3:00 PM |12:00 PM |{Pets not allowed, Children are welcome.}                                                                                                                                                                                                                                                                                                                                                                                                                                        |PT          |\n",
      "|88081674  |3:00 PM |11:00 AM |{Pets not allowed, Children are welcome.}                                                                                                                                                                                                                                                                                                                                                                                                                                        |AE          |\n",
      "|33554964  |4:00 PM |11:00 AM |{Pets not allowed, This property welcomes adults only.}                                                                                                                                                                                                                                                                                                                                                                                                                          |GR          |\n",
      "|88081671  |3:00 PM |11:00 AM |{Pets not allowed, Children are welcome.}                                                                                                                                                                                                                                                                                                                                                                                                                                        |AE          |\n",
      "|33554950  |3:00 PM |11:00 AM |{Pets not allowed, Children are welcome.}                                                                                                                                                                                                                                                                                                                                                                                                                                        |BS          |\n",
      "|67110004  |        |         |{, Children are welcome.}                                                                                                                                                                                                                                                                                                                                                                                                                                                        |ID          |\n",
      "|37749262  |4:00 PM |10:00 AM |{Pets not allowed, Children are welcome.}                                                                                                                                                                                                                                                                                                                                                                                                                                        |US          |\n",
      "|33554998  |3:00 PM |12:00 PM |{Pets not allowed, Children are welcome.}                                                                                                                                                                                                                                                                                                                                                                                                                                        |MY          |\n",
      "|16        |3 PM    |11 AM    |{Pets stay free2 per room (up to 80 lbs per pet)Restrictions apply For more information contact the property at the number on the booking confirmationService animals welcome, Children are welcome.Kids stay free! Up to 2 children 21 years old and younger stay free when using existing bedding.Rollaway/extra beds are not available.Cribs (infant beds) are not available.}                                                                                                |US          |\n",
      "|33555000  |3:00 PM |12:00 PM |{Pets not allowed, Children are welcome.}                                                                                                                                                                                                                                                                                                                                                                                                                                        |US          |\n",
      "|33555012  |3:00 PM |11:00 AM |{Pets allowedDogs and cats only2 per roomRestrictions apply For more information contact the property at the number on the booking confirmation, Children are welcome.}                                                                                                                                                                                                                                                                                                          |AW          |\n",
      "+----------+--------+---------+---------------------------------------------------------------------------------------------------------------------------------------------------------------------------------------------------------------------------------------------------------------------------------------------------------------------------------------------------------------------------------------------------------------------------------------------------------------------------------+------------+\n",
      "only showing top 50 rows\n",
      "\n"
     ]
    }
   ],
   "source": [
    "# Create the transformed DataFrame with the policy column as a struct\n",
    "transformed_df = df.select(\n",
    "    coalesce(col(\"propertyId.expedia\"), lit(\"\")).alias(\"expedia_id\"),\n",
    "    when(col(\"checkInStartTime\").isNull(), lit(\"\"))\n",
    "      .otherwise(col(\"checkInStartTime\"))\n",
    "      .alias(\"check_in\"),\n",
    "    when(col(\"checkOutTime\").isNull(), lit(\"\"))\n",
    "      .otherwise(col(\"checkOutTime\"))\n",
    "      .alias(\"check_out\"),\n",
    "    struct(\n",
    "        remove_html_tags_udf(coalesce(col(\"petPolicy\"), lit([\"\"]))).alias(\"pet_policy\"),\n",
    "        remove_html_tags_udf(coalesce(col(\"childrenAndExtraBedPolicy\"), lit([\"\"]))).alias(\"child_policy\")\n",
    "    ).alias(\"policy\"),\n",
    "    get_country_code_udf(coalesce(col(\"country\"), lit(\"\"))).alias(\"country_code\")\n",
    ")\n",
    "\n",
    "transformed_df.show(50, truncate = False)"
   ]
  },
  {
   "cell_type": "code",
   "execution_count": 20,
   "metadata": {},
   "outputs": [
    {
     "name": "stdout",
     "output_type": "stream",
     "text": [
      "root\n",
      " |-- expedia_id: string (nullable = false)\n",
      " |-- check_in: string (nullable = true)\n",
      " |-- check_out: string (nullable = true)\n",
      " |-- policy: struct (nullable = false)\n",
      " |    |-- pet_policy: string (nullable = true)\n",
      " |    |-- child_policy: string (nullable = true)\n",
      " |-- country_code: string (nullable = true)\n",
      "\n"
     ]
    }
   ],
   "source": [
    "transformed_df.printSchema()"
   ]
  },
  {
   "cell_type": "code",
   "execution_count": 24,
   "metadata": {},
   "outputs": [
    {
     "name": "stderr",
     "output_type": "stream",
     "text": [
      "                                                                                \r"
     ]
    },
    {
     "data": {
      "text/plain": [
       "1000000"
      ]
     },
     "execution_count": 24,
     "metadata": {},
     "output_type": "execute_result"
    }
   ],
   "source": [
    "transformed_df.count()"
   ]
  },
  {
   "cell_type": "code",
   "execution_count": 25,
   "metadata": {},
   "outputs": [
    {
     "name": "stderr",
     "output_type": "stream",
     "text": [
      "                                                                                \r"
     ]
    },
    {
     "data": {
      "text/plain": [
       "1000000"
      ]
     },
     "execution_count": 25,
     "metadata": {},
     "output_type": "execute_result"
    }
   ],
   "source": [
    "transformed_df=transformed_df.dropDuplicates([\"expedia_id\"])\n",
    "transformed_df.count()"
   ]
  },
  {
   "cell_type": "code",
   "execution_count": 29,
   "metadata": {},
   "outputs": [
    {
     "ename": "ParseException",
     "evalue": "\n[PARSE_SYNTAX_ERROR] Syntax error at or near 'expedia_id'.(line 8, pos 29)\n\n== SQL ==\n\n            CREATE TABLE IF NOT EXISTS local.default.lodging_policies (\n                expedia_id STRING,\n                check_in STRING,\n                check_out STRING,\n                policy struct<pet_policy: STRING, child_policy: STRING>,\n                country_code  STRING,\n                PRIMARY KEY (expedia_id)\n-----------------------------^^^\n            )\n            USING iceberg\n            PARTITIONED BY (country_code)\n        \n",
     "output_type": "error",
     "traceback": [
      "\u001b[0;31m---------------------------------------------------------------------------\u001b[0m",
      "\u001b[0;31mParseException\u001b[0m                            Traceback (most recent call last)",
      "Cell \u001b[0;32mIn[29], line 1\u001b[0m\n\u001b[0;32m----> 1\u001b[0m \u001b[43mspark\u001b[49m\u001b[38;5;241;43m.\u001b[39;49m\u001b[43msql\u001b[49m\u001b[43m(\u001b[49m\u001b[38;5;124;43mf\u001b[39;49m\u001b[38;5;124;43m\"\"\"\u001b[39;49m\n\u001b[1;32m      2\u001b[0m \u001b[38;5;124;43m            CREATE TABLE IF NOT EXISTS local.default.lodging_policies (\u001b[39;49m\n\u001b[1;32m      3\u001b[0m \u001b[38;5;124;43m                expedia_id STRING,\u001b[39;49m\n\u001b[1;32m      4\u001b[0m \u001b[38;5;124;43m                check_in STRING,\u001b[39;49m\n\u001b[1;32m      5\u001b[0m \u001b[38;5;124;43m                check_out STRING,\u001b[39;49m\n\u001b[1;32m      6\u001b[0m \u001b[38;5;124;43m                policy struct<pet_policy: STRING, child_policy: STRING>,\u001b[39;49m\n\u001b[1;32m      7\u001b[0m \u001b[38;5;124;43m                country_code  STRING,\u001b[39;49m\n\u001b[1;32m      8\u001b[0m \u001b[38;5;124;43m                PRIMARY KEY (expedia_id)\u001b[39;49m\n\u001b[1;32m      9\u001b[0m \u001b[38;5;124;43m            )\u001b[39;49m\n\u001b[1;32m     10\u001b[0m \u001b[38;5;124;43m            USING iceberg\u001b[39;49m\n\u001b[1;32m     11\u001b[0m \u001b[38;5;124;43m            PARTITIONED BY (country_code)\u001b[39;49m\n\u001b[1;32m     12\u001b[0m \u001b[38;5;124;43m        \u001b[39;49m\u001b[38;5;124;43m\"\"\"\u001b[39;49m\u001b[43m)\u001b[49m\n",
      "File \u001b[0;32m~/Desktop/Lodging Policies/venv/lib/python3.12/site-packages/pyspark/sql/session.py:1631\u001b[0m, in \u001b[0;36mSparkSession.sql\u001b[0;34m(self, sqlQuery, args, **kwargs)\u001b[0m\n\u001b[1;32m   1627\u001b[0m         \u001b[38;5;28;01massert\u001b[39;00m \u001b[38;5;28mself\u001b[39m\u001b[38;5;241m.\u001b[39m_jvm \u001b[38;5;129;01mis\u001b[39;00m \u001b[38;5;129;01mnot\u001b[39;00m \u001b[38;5;28;01mNone\u001b[39;00m\n\u001b[1;32m   1628\u001b[0m         litArgs \u001b[38;5;241m=\u001b[39m \u001b[38;5;28mself\u001b[39m\u001b[38;5;241m.\u001b[39m_jvm\u001b[38;5;241m.\u001b[39mPythonUtils\u001b[38;5;241m.\u001b[39mtoArray(\n\u001b[1;32m   1629\u001b[0m             [_to_java_column(lit(v)) \u001b[38;5;28;01mfor\u001b[39;00m v \u001b[38;5;129;01min\u001b[39;00m (args \u001b[38;5;129;01mor\u001b[39;00m [])]\n\u001b[1;32m   1630\u001b[0m         )\n\u001b[0;32m-> 1631\u001b[0m     \u001b[38;5;28;01mreturn\u001b[39;00m DataFrame(\u001b[38;5;28;43mself\u001b[39;49m\u001b[38;5;241;43m.\u001b[39;49m\u001b[43m_jsparkSession\u001b[49m\u001b[38;5;241;43m.\u001b[39;49m\u001b[43msql\u001b[49m\u001b[43m(\u001b[49m\u001b[43msqlQuery\u001b[49m\u001b[43m,\u001b[49m\u001b[43m \u001b[49m\u001b[43mlitArgs\u001b[49m\u001b[43m)\u001b[49m, \u001b[38;5;28mself\u001b[39m)\n\u001b[1;32m   1632\u001b[0m \u001b[38;5;28;01mfinally\u001b[39;00m:\n\u001b[1;32m   1633\u001b[0m     \u001b[38;5;28;01mif\u001b[39;00m \u001b[38;5;28mlen\u001b[39m(kwargs) \u001b[38;5;241m>\u001b[39m \u001b[38;5;241m0\u001b[39m:\n",
      "File \u001b[0;32m~/Desktop/Lodging Policies/venv/lib/python3.12/site-packages/py4j/java_gateway.py:1322\u001b[0m, in \u001b[0;36mJavaMember.__call__\u001b[0;34m(self, *args)\u001b[0m\n\u001b[1;32m   1316\u001b[0m command \u001b[38;5;241m=\u001b[39m proto\u001b[38;5;241m.\u001b[39mCALL_COMMAND_NAME \u001b[38;5;241m+\u001b[39m\\\n\u001b[1;32m   1317\u001b[0m     \u001b[38;5;28mself\u001b[39m\u001b[38;5;241m.\u001b[39mcommand_header \u001b[38;5;241m+\u001b[39m\\\n\u001b[1;32m   1318\u001b[0m     args_command \u001b[38;5;241m+\u001b[39m\\\n\u001b[1;32m   1319\u001b[0m     proto\u001b[38;5;241m.\u001b[39mEND_COMMAND_PART\n\u001b[1;32m   1321\u001b[0m answer \u001b[38;5;241m=\u001b[39m \u001b[38;5;28mself\u001b[39m\u001b[38;5;241m.\u001b[39mgateway_client\u001b[38;5;241m.\u001b[39msend_command(command)\n\u001b[0;32m-> 1322\u001b[0m return_value \u001b[38;5;241m=\u001b[39m \u001b[43mget_return_value\u001b[49m\u001b[43m(\u001b[49m\n\u001b[1;32m   1323\u001b[0m \u001b[43m    \u001b[49m\u001b[43manswer\u001b[49m\u001b[43m,\u001b[49m\u001b[43m \u001b[49m\u001b[38;5;28;43mself\u001b[39;49m\u001b[38;5;241;43m.\u001b[39;49m\u001b[43mgateway_client\u001b[49m\u001b[43m,\u001b[49m\u001b[43m \u001b[49m\u001b[38;5;28;43mself\u001b[39;49m\u001b[38;5;241;43m.\u001b[39;49m\u001b[43mtarget_id\u001b[49m\u001b[43m,\u001b[49m\u001b[43m \u001b[49m\u001b[38;5;28;43mself\u001b[39;49m\u001b[38;5;241;43m.\u001b[39;49m\u001b[43mname\u001b[49m\u001b[43m)\u001b[49m\n\u001b[1;32m   1325\u001b[0m \u001b[38;5;28;01mfor\u001b[39;00m temp_arg \u001b[38;5;129;01min\u001b[39;00m temp_args:\n\u001b[1;32m   1326\u001b[0m     \u001b[38;5;28;01mif\u001b[39;00m \u001b[38;5;28mhasattr\u001b[39m(temp_arg, \u001b[38;5;124m\"\u001b[39m\u001b[38;5;124m_detach\u001b[39m\u001b[38;5;124m\"\u001b[39m):\n",
      "File \u001b[0;32m~/Desktop/Lodging Policies/venv/lib/python3.12/site-packages/pyspark/errors/exceptions/captured.py:185\u001b[0m, in \u001b[0;36mcapture_sql_exception.<locals>.deco\u001b[0;34m(*a, **kw)\u001b[0m\n\u001b[1;32m    181\u001b[0m converted \u001b[38;5;241m=\u001b[39m convert_exception(e\u001b[38;5;241m.\u001b[39mjava_exception)\n\u001b[1;32m    182\u001b[0m \u001b[38;5;28;01mif\u001b[39;00m \u001b[38;5;129;01mnot\u001b[39;00m \u001b[38;5;28misinstance\u001b[39m(converted, UnknownException):\n\u001b[1;32m    183\u001b[0m     \u001b[38;5;66;03m# Hide where the exception came from that shows a non-Pythonic\u001b[39;00m\n\u001b[1;32m    184\u001b[0m     \u001b[38;5;66;03m# JVM exception message.\u001b[39;00m\n\u001b[0;32m--> 185\u001b[0m     \u001b[38;5;28;01mraise\u001b[39;00m converted \u001b[38;5;28;01mfrom\u001b[39;00m\u001b[38;5;250m \u001b[39m\u001b[38;5;28;01mNone\u001b[39;00m\n\u001b[1;32m    186\u001b[0m \u001b[38;5;28;01melse\u001b[39;00m:\n\u001b[1;32m    187\u001b[0m     \u001b[38;5;28;01mraise\u001b[39;00m\n",
      "\u001b[0;31mParseException\u001b[0m: \n[PARSE_SYNTAX_ERROR] Syntax error at or near 'expedia_id'.(line 8, pos 29)\n\n== SQL ==\n\n            CREATE TABLE IF NOT EXISTS local.default.lodging_policies (\n                expedia_id STRING,\n                check_in STRING,\n                check_out STRING,\n                policy struct<pet_policy: STRING, child_policy: STRING>,\n                country_code  STRING,\n                PRIMARY KEY (expedia_id)\n-----------------------------^^^\n            )\n            USING iceberg\n            PARTITIONED BY (country_code)\n        \n"
     ]
    }
   ],
   "source": [
    "\n",
    "spark.sql(f\"\"\"\n",
    "            CREATE TABLE IF NOT EXISTS local.default.lodging_policies (\n",
    "                expedia_id STRING,\n",
    "                check_in STRING,\n",
    "                check_out STRING,\n",
    "                policy struct<pet_policy: STRING, child_policy: STRING>,\n",
    "                country_code  STRING,\n",
    "                PRIMARY KEY (expedia_id)\n",
    "            )\n",
    "            USING iceberg\n",
    "            PARTITIONED BY (country_code)\n",
    "        \"\"\")"
   ]
  },
  {
   "cell_type": "code",
   "execution_count": 22,
   "metadata": {},
   "outputs": [
    {
     "name": "stderr",
     "output_type": "stream",
     "text": [
      "25/01/13 17:15:16 WARN HadoopTableOperations: Error reading version hint file warehouse/db/lodging_policies/metadata/version-hint.text\n",
      "java.io.FileNotFoundException: File warehouse/db/lodging_policies/metadata/version-hint.text does not exist\n",
      "\tat org.apache.hadoop.fs.RawLocalFileSystem.deprecatedGetFileStatus(RawLocalFileSystem.java:779)\n",
      "\tat org.apache.hadoop.fs.RawLocalFileSystem.getFileLinkStatusInternal(RawLocalFileSystem.java:1100)\n",
      "\tat org.apache.hadoop.fs.RawLocalFileSystem.getFileStatus(RawLocalFileSystem.java:769)\n",
      "\tat org.apache.hadoop.fs.FilterFileSystem.getFileStatus(FilterFileSystem.java:462)\n",
      "\tat org.apache.hadoop.fs.ChecksumFileSystem$ChecksumFSInputChecker.<init>(ChecksumFileSystem.java:160)\n",
      "\tat org.apache.hadoop.fs.ChecksumFileSystem.open(ChecksumFileSystem.java:372)\n",
      "\tat org.apache.hadoop.fs.FileSystem.open(FileSystem.java:976)\n",
      "\tat org.apache.iceberg.hadoop.HadoopTableOperations.findVersion(HadoopTableOperations.java:318)\n",
      "\tat org.apache.iceberg.hadoop.HadoopTableOperations.refresh(HadoopTableOperations.java:104)\n",
      "\tat org.apache.iceberg.BaseTransaction.lambda$commitReplaceTransaction$1(BaseTransaction.java:357)\n",
      "\tat org.apache.iceberg.util.Tasks$Builder.runTaskWithRetry(Tasks.java:413)\n",
      "\tat org.apache.iceberg.util.Tasks$Builder.runSingleThreaded(Tasks.java:219)\n",
      "\tat org.apache.iceberg.util.Tasks$Builder.run(Tasks.java:203)\n",
      "\tat org.apache.iceberg.util.Tasks$Builder.run(Tasks.java:196)\n",
      "\tat org.apache.iceberg.BaseTransaction.commitReplaceTransaction(BaseTransaction.java:354)\n",
      "\tat org.apache.iceberg.BaseTransaction.commitTransaction(BaseTransaction.java:303)\n",
      "\tat org.apache.iceberg.CommitCallbackTransaction.commitTransaction(CommitCallbackTransaction.java:121)\n",
      "\tat org.apache.iceberg.spark.source.StagedSparkTable.commitStagedChanges(StagedSparkTable.java:34)\n",
      "\tat org.apache.spark.sql.execution.datasources.v2.V2CreateTableAsSelectBaseExec.$anonfun$writeToTable$1(WriteToDataSourceV2Exec.scala:585)\n",
      "\tat org.apache.spark.util.Utils$.tryWithSafeFinallyAndFailureCallbacks(Utils.scala:1397)\n",
      "\tat org.apache.spark.sql.execution.datasources.v2.V2CreateTableAsSelectBaseExec.writeToTable(WriteToDataSourceV2Exec.scala:578)\n",
      "\tat org.apache.spark.sql.execution.datasources.v2.V2CreateTableAsSelectBaseExec.writeToTable$(WriteToDataSourceV2Exec.scala:572)\n",
      "\tat org.apache.spark.sql.execution.datasources.v2.AtomicReplaceTableAsSelectExec.writeToTable(WriteToDataSourceV2Exec.scala:186)\n",
      "\tat org.apache.spark.sql.execution.datasources.v2.AtomicReplaceTableAsSelectExec.run(WriteToDataSourceV2Exec.scala:221)\n",
      "\tat org.apache.spark.sql.execution.datasources.v2.V2CommandExec.result$lzycompute(V2CommandExec.scala:43)\n",
      "\tat org.apache.spark.sql.execution.datasources.v2.V2CommandExec.result(V2CommandExec.scala:43)\n",
      "\tat org.apache.spark.sql.execution.datasources.v2.V2CommandExec.executeCollect(V2CommandExec.scala:49)\n",
      "\tat org.apache.spark.sql.execution.QueryExecution$$anonfun$eagerlyExecuteCommands$1.$anonfun$applyOrElse$1(QueryExecution.scala:107)\n",
      "\tat org.apache.spark.sql.execution.SQLExecution$.$anonfun$withNewExecutionId$6(SQLExecution.scala:125)\n",
      "\tat org.apache.spark.sql.execution.SQLExecution$.withSQLConfPropagated(SQLExecution.scala:201)\n",
      "\tat org.apache.spark.sql.execution.SQLExecution$.$anonfun$withNewExecutionId$1(SQLExecution.scala:108)\n",
      "\tat org.apache.spark.sql.SparkSession.withActive(SparkSession.scala:900)\n",
      "\tat org.apache.spark.sql.execution.SQLExecution$.withNewExecutionId(SQLExecution.scala:66)\n",
      "\tat org.apache.spark.sql.execution.QueryExecution$$anonfun$eagerlyExecuteCommands$1.applyOrElse(QueryExecution.scala:107)\n",
      "\tat org.apache.spark.sql.execution.QueryExecution$$anonfun$eagerlyExecuteCommands$1.applyOrElse(QueryExecution.scala:98)\n",
      "\tat org.apache.spark.sql.catalyst.trees.TreeNode.$anonfun$transformDownWithPruning$1(TreeNode.scala:461)\n",
      "\tat org.apache.spark.sql.catalyst.trees.CurrentOrigin$.withOrigin(origin.scala:76)\n",
      "\tat org.apache.spark.sql.catalyst.trees.TreeNode.transformDownWithPruning(TreeNode.scala:461)\n",
      "\tat org.apache.spark.sql.catalyst.plans.logical.LogicalPlan.org$apache$spark$sql$catalyst$plans$logical$AnalysisHelper$$super$transformDownWithPruning(LogicalPlan.scala:32)\n",
      "\tat org.apache.spark.sql.catalyst.plans.logical.AnalysisHelper.transformDownWithPruning(AnalysisHelper.scala:267)\n",
      "\tat org.apache.spark.sql.catalyst.plans.logical.AnalysisHelper.transformDownWithPruning$(AnalysisHelper.scala:263)\n",
      "\tat org.apache.spark.sql.catalyst.plans.logical.LogicalPlan.transformDownWithPruning(LogicalPlan.scala:32)\n",
      "\tat org.apache.spark.sql.catalyst.plans.logical.LogicalPlan.transformDownWithPruning(LogicalPlan.scala:32)\n",
      "\tat org.apache.spark.sql.catalyst.trees.TreeNode.transformDown(TreeNode.scala:437)\n",
      "\tat org.apache.spark.sql.execution.QueryExecution.eagerlyExecuteCommands(QueryExecution.scala:98)\n",
      "\tat org.apache.spark.sql.execution.QueryExecution.commandExecuted$lzycompute(QueryExecution.scala:85)\n",
      "\tat org.apache.spark.sql.execution.QueryExecution.commandExecuted(QueryExecution.scala:83)\n",
      "\tat org.apache.spark.sql.execution.QueryExecution.assertCommandExecuted(QueryExecution.scala:142)\n",
      "\tat org.apache.spark.sql.DataFrameWriterV2.runCommand(DataFrameWriterV2.scala:201)\n",
      "\tat org.apache.spark.sql.DataFrameWriterV2.internalReplace(DataFrameWriterV2.scala:213)\n",
      "\tat org.apache.spark.sql.DataFrameWriterV2.createOrReplace(DataFrameWriterV2.scala:135)\n",
      "\tat java.base/jdk.internal.reflect.NativeMethodAccessorImpl.invoke0(Native Method)\n",
      "\tat java.base/jdk.internal.reflect.NativeMethodAccessorImpl.invoke(NativeMethodAccessorImpl.java:77)\n",
      "\tat java.base/jdk.internal.reflect.DelegatingMethodAccessorImpl.invoke(DelegatingMethodAccessorImpl.java:43)\n",
      "\tat java.base/java.lang.reflect.Method.invoke(Method.java:569)\n",
      "\tat py4j.reflection.MethodInvoker.invoke(MethodInvoker.java:244)\n",
      "\tat py4j.reflection.ReflectionEngine.invoke(ReflectionEngine.java:374)\n",
      "\tat py4j.Gateway.invoke(Gateway.java:282)\n",
      "\tat py4j.commands.AbstractCommand.invokeMethod(AbstractCommand.java:132)\n",
      "\tat py4j.commands.CallCommand.execute(CallCommand.java:79)\n",
      "\tat py4j.ClientServerConnection.waitForCommands(ClientServerConnection.java:182)\n",
      "\tat py4j.ClientServerConnection.run(ClientServerConnection.java:106)\n",
      "\tat java.base/java.lang.Thread.run(Thread.java:840)\n",
      "25/01/13 17:15:16 WARN HadoopTableOperations: Error reading version hint file warehouse/db/lodging_policies/metadata/version-hint.text\n",
      "java.io.FileNotFoundException: File warehouse/db/lodging_policies/metadata/version-hint.text does not exist\n",
      "\tat org.apache.hadoop.fs.RawLocalFileSystem.deprecatedGetFileStatus(RawLocalFileSystem.java:779)\n",
      "\tat org.apache.hadoop.fs.RawLocalFileSystem.getFileLinkStatusInternal(RawLocalFileSystem.java:1100)\n",
      "\tat org.apache.hadoop.fs.RawLocalFileSystem.getFileStatus(RawLocalFileSystem.java:769)\n",
      "\tat org.apache.hadoop.fs.FilterFileSystem.getFileStatus(FilterFileSystem.java:462)\n",
      "\tat org.apache.hadoop.fs.ChecksumFileSystem$ChecksumFSInputChecker.<init>(ChecksumFileSystem.java:160)\n",
      "\tat org.apache.hadoop.fs.ChecksumFileSystem.open(ChecksumFileSystem.java:372)\n",
      "\tat org.apache.hadoop.fs.FileSystem.open(FileSystem.java:976)\n",
      "\tat org.apache.iceberg.hadoop.HadoopTableOperations.findVersion(HadoopTableOperations.java:318)\n",
      "\tat org.apache.iceberg.hadoop.HadoopTableOperations.refresh(HadoopTableOperations.java:104)\n",
      "\tat org.apache.iceberg.hadoop.HadoopTableOperations.current(HadoopTableOperations.java:84)\n",
      "\tat org.apache.iceberg.BaseTransaction.lambda$commitReplaceTransaction$1(BaseTransaction.java:366)\n",
      "\tat org.apache.iceberg.util.Tasks$Builder.runTaskWithRetry(Tasks.java:413)\n",
      "\tat org.apache.iceberg.util.Tasks$Builder.runSingleThreaded(Tasks.java:219)\n",
      "\tat org.apache.iceberg.util.Tasks$Builder.run(Tasks.java:203)\n",
      "\tat org.apache.iceberg.util.Tasks$Builder.run(Tasks.java:196)\n",
      "\tat org.apache.iceberg.BaseTransaction.commitReplaceTransaction(BaseTransaction.java:354)\n",
      "\tat org.apache.iceberg.BaseTransaction.commitTransaction(BaseTransaction.java:303)\n",
      "\tat org.apache.iceberg.CommitCallbackTransaction.commitTransaction(CommitCallbackTransaction.java:121)\n",
      "\tat org.apache.iceberg.spark.source.StagedSparkTable.commitStagedChanges(StagedSparkTable.java:34)\n",
      "\tat org.apache.spark.sql.execution.datasources.v2.V2CreateTableAsSelectBaseExec.$anonfun$writeToTable$1(WriteToDataSourceV2Exec.scala:585)\n",
      "\tat org.apache.spark.util.Utils$.tryWithSafeFinallyAndFailureCallbacks(Utils.scala:1397)\n",
      "\tat org.apache.spark.sql.execution.datasources.v2.V2CreateTableAsSelectBaseExec.writeToTable(WriteToDataSourceV2Exec.scala:578)\n",
      "\tat org.apache.spark.sql.execution.datasources.v2.V2CreateTableAsSelectBaseExec.writeToTable$(WriteToDataSourceV2Exec.scala:572)\n",
      "\tat org.apache.spark.sql.execution.datasources.v2.AtomicReplaceTableAsSelectExec.writeToTable(WriteToDataSourceV2Exec.scala:186)\n",
      "\tat org.apache.spark.sql.execution.datasources.v2.AtomicReplaceTableAsSelectExec.run(WriteToDataSourceV2Exec.scala:221)\n",
      "\tat org.apache.spark.sql.execution.datasources.v2.V2CommandExec.result$lzycompute(V2CommandExec.scala:43)\n",
      "\tat org.apache.spark.sql.execution.datasources.v2.V2CommandExec.result(V2CommandExec.scala:43)\n",
      "\tat org.apache.spark.sql.execution.datasources.v2.V2CommandExec.executeCollect(V2CommandExec.scala:49)\n",
      "\tat org.apache.spark.sql.execution.QueryExecution$$anonfun$eagerlyExecuteCommands$1.$anonfun$applyOrElse$1(QueryExecution.scala:107)\n",
      "\tat org.apache.spark.sql.execution.SQLExecution$.$anonfun$withNewExecutionId$6(SQLExecution.scala:125)\n",
      "\tat org.apache.spark.sql.execution.SQLExecution$.withSQLConfPropagated(SQLExecution.scala:201)\n",
      "\tat org.apache.spark.sql.execution.SQLExecution$.$anonfun$withNewExecutionId$1(SQLExecution.scala:108)\n",
      "\tat org.apache.spark.sql.SparkSession.withActive(SparkSession.scala:900)\n",
      "\tat org.apache.spark.sql.execution.SQLExecution$.withNewExecutionId(SQLExecution.scala:66)\n",
      "\tat org.apache.spark.sql.execution.QueryExecution$$anonfun$eagerlyExecuteCommands$1.applyOrElse(QueryExecution.scala:107)\n",
      "\tat org.apache.spark.sql.execution.QueryExecution$$anonfun$eagerlyExecuteCommands$1.applyOrElse(QueryExecution.scala:98)\n",
      "\tat org.apache.spark.sql.catalyst.trees.TreeNode.$anonfun$transformDownWithPruning$1(TreeNode.scala:461)\n",
      "\tat org.apache.spark.sql.catalyst.trees.CurrentOrigin$.withOrigin(origin.scala:76)\n",
      "\tat org.apache.spark.sql.catalyst.trees.TreeNode.transformDownWithPruning(TreeNode.scala:461)\n",
      "\tat org.apache.spark.sql.catalyst.plans.logical.LogicalPlan.org$apache$spark$sql$catalyst$plans$logical$AnalysisHelper$$super$transformDownWithPruning(LogicalPlan.scala:32)\n",
      "\tat org.apache.spark.sql.catalyst.plans.logical.AnalysisHelper.transformDownWithPruning(AnalysisHelper.scala:267)\n",
      "\tat org.apache.spark.sql.catalyst.plans.logical.AnalysisHelper.transformDownWithPruning$(AnalysisHelper.scala:263)\n",
      "\tat org.apache.spark.sql.catalyst.plans.logical.LogicalPlan.transformDownWithPruning(LogicalPlan.scala:32)\n",
      "\tat org.apache.spark.sql.catalyst.plans.logical.LogicalPlan.transformDownWithPruning(LogicalPlan.scala:32)\n",
      "\tat org.apache.spark.sql.catalyst.trees.TreeNode.transformDown(TreeNode.scala:437)\n",
      "\tat org.apache.spark.sql.execution.QueryExecution.eagerlyExecuteCommands(QueryExecution.scala:98)\n",
      "\tat org.apache.spark.sql.execution.QueryExecution.commandExecuted$lzycompute(QueryExecution.scala:85)\n",
      "\tat org.apache.spark.sql.execution.QueryExecution.commandExecuted(QueryExecution.scala:83)\n",
      "\tat org.apache.spark.sql.execution.QueryExecution.assertCommandExecuted(QueryExecution.scala:142)\n",
      "\tat org.apache.spark.sql.DataFrameWriterV2.runCommand(DataFrameWriterV2.scala:201)\n",
      "\tat org.apache.spark.sql.DataFrameWriterV2.internalReplace(DataFrameWriterV2.scala:213)\n",
      "\tat org.apache.spark.sql.DataFrameWriterV2.createOrReplace(DataFrameWriterV2.scala:135)\n",
      "\tat java.base/jdk.internal.reflect.NativeMethodAccessorImpl.invoke0(Native Method)\n",
      "\tat java.base/jdk.internal.reflect.NativeMethodAccessorImpl.invoke(NativeMethodAccessorImpl.java:77)\n",
      "\tat java.base/jdk.internal.reflect.DelegatingMethodAccessorImpl.invoke(DelegatingMethodAccessorImpl.java:43)\n",
      "\tat java.base/java.lang.reflect.Method.invoke(Method.java:569)\n",
      "\tat py4j.reflection.MethodInvoker.invoke(MethodInvoker.java:244)\n",
      "\tat py4j.reflection.ReflectionEngine.invoke(ReflectionEngine.java:374)\n",
      "\tat py4j.Gateway.invoke(Gateway.java:282)\n",
      "\tat py4j.commands.AbstractCommand.invokeMethod(AbstractCommand.java:132)\n",
      "\tat py4j.commands.CallCommand.execute(CallCommand.java:79)\n",
      "\tat py4j.ClientServerConnection.waitForCommands(ClientServerConnection.java:182)\n",
      "\tat py4j.ClientServerConnection.run(ClientServerConnection.java:106)\n",
      "\tat java.base/java.lang.Thread.run(Thread.java:840)\n"
     ]
    }
   ],
   "source": [
    "transformed_df.writeTo(\"local.db.lodging_policies\") \\\n",
    "    .partitionedBy(\"country_code\") \\\n",
    "    .using(\"iceberg\") \\\n",
    "    .tableProperty(\"write.format.default\", \"parquet\") \\\n",
    "    .tableProperty(\"write.parquet.compression-codec\", \"snappy\") \\\n",
    "    .createOrReplace()"
   ]
  },
  {
   "cell_type": "code",
   "execution_count": 12,
   "metadata": {},
   "outputs": [
    {
     "name": "stderr",
     "output_type": "stream",
     "text": [
      "[Stage 6:======================================================>  (53 + 2) / 55]\r"
     ]
    },
    {
     "name": "stdout",
     "output_type": "stream",
     "text": [
      "+-------------+------------+\n",
      "|total_records|country_code|\n",
      "+-------------+------------+\n",
      "|       317580|          US|\n",
      "|       106879|          FR|\n",
      "|        65310|          IT|\n",
      "|        64297|          DE|\n",
      "|        53694|          ES|\n",
      "|        43225|          UK|\n",
      "|        43080|          HR|\n",
      "|        24046|          AU|\n",
      "|        18076|          GR|\n",
      "|        17312|          BR|\n",
      "|        16421|          MX|\n",
      "|        15844|          PT|\n",
      "|        14035|          CA|\n",
      "|        13100|          DK|\n",
      "|        10969|          AT|\n",
      "|         9582|          JP|\n",
      "|         8275|          ID|\n",
      "|         7761|          TH|\n",
      "|         7752|          TR|\n",
      "|         7171|          IN|\n",
      "|         6497|          NZ|\n",
      "|         6230|          NL|\n",
      "|         6114|          CH|\n",
      "|         5582|          SE|\n",
      "|         4812|          PL|\n",
      "|         3719|          DO|\n",
      "|         3706|          KR|\n",
      "|         3680|          VN|\n",
      "|         3670|          ZA|\n",
      "|         3651|          CR|\n",
      "|         3539|          MA|\n",
      "|         3496|          CO|\n",
      "|         3489|          CN|\n",
      "|         3293|          BE|\n",
      "|         3182|          NO|\n",
      "|         3040|          CY|\n",
      "|         2776|          MY|\n",
      "|         2507|          PH|\n",
      "|         1977|          AE|\n",
      "|         1966|          KE|\n",
      "|         1940|          IE|\n",
      "|         1630|          JM|\n",
      "|         1629|          GP|\n",
      "|         1620|          TW|\n",
      "|         1619|          AR|\n",
      "|         1509|          LK|\n",
      "|         1500|          CZ|\n",
      "|         1487|          FI|\n",
      "|         1449|          PR|\n",
      "|         1448|          VI|\n",
      "+-------------+------------+\n",
      "only showing top 50 rows\n",
      "\n"
     ]
    },
    {
     "name": "stderr",
     "output_type": "stream",
     "text": [
      "                                                                                \r"
     ]
    }
   ],
   "source": [
    "spark.sql(\"SELECT count(*) as total_records, country_code FROM local.db.lodging_policies GROUP BY country_code ORDER BY total_records DESC\").show(50)"
   ]
  },
  {
   "cell_type": "code",
   "execution_count": 13,
   "metadata": {},
   "outputs": [
    {
     "name": "stdout",
     "output_type": "stream",
     "text": [
      "+---------+\n",
      "|namespace|\n",
      "+---------+\n",
      "|  default|\n",
      "+---------+\n",
      "\n"
     ]
    }
   ],
   "source": [
    "spark.sql(\"SHOW DATABASES\").show()"
   ]
  },
  {
   "cell_type": "code",
   "execution_count": null,
   "metadata": {},
   "outputs": [],
   "source": []
  }
 ],
 "metadata": {
  "kernelspec": {
   "display_name": "venv",
   "language": "python",
   "name": "python3"
  },
  "language_info": {
   "codemirror_mode": {
    "name": "ipython",
    "version": 3
   },
   "file_extension": ".py",
   "mimetype": "text/x-python",
   "name": "python",
   "nbconvert_exporter": "python",
   "pygments_lexer": "ipython3",
   "version": "3.12.3"
  }
 },
 "nbformat": 4,
 "nbformat_minor": 2
}
